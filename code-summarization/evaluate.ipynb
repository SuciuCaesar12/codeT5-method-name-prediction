{
 "cells": [
  {
   "cell_type": "code",
   "execution_count": 1,
   "metadata": {
    "collapsed": true,
    "ExecuteTime": {
     "start_time": "2023-12-22T14:37:08.542655Z",
     "end_time": "2023-12-22T14:37:19.431063Z"
    }
   },
   "outputs": [],
   "source": [
    "from datasets import load_dataset\n",
    "from evaluate import load\n",
    "from pathlib import Path\n",
    "import os\n",
    "import yaml\n",
    "import re"
   ]
  },
  {
   "cell_type": "code",
   "execution_count": 3,
   "outputs": [],
   "source": [
    "path_to_predictions = ''\n",
    "path_to_save_metrics = ''"
   ],
   "metadata": {
    "collapsed": false,
    "ExecuteTime": {
     "start_time": "2023-12-22T14:37:37.129748Z",
     "end_time": "2023-12-22T14:37:37.168129Z"
    }
   }
  },
  {
   "cell_type": "code",
   "execution_count": 4,
   "outputs": [],
   "source": [
    "predictions_dataset = load_dataset('json', data_files=path_to_predictions)['train']"
   ],
   "metadata": {
    "collapsed": false,
    "ExecuteTime": {
     "start_time": "2023-12-22T14:37:38.081249Z",
     "end_time": "2023-12-22T14:37:38.704541Z"
    }
   }
  },
  {
   "cell_type": "markdown",
   "source": [],
   "metadata": {
    "collapsed": false
   }
  },
  {
   "cell_type": "code",
   "execution_count": 5,
   "outputs": [],
   "source": [
    "def split(example):\n",
    "    pattern = r'[a-z]+[0-9]*|[A-Z](?:[a-z]+[0-9]*|[A-Z]*[0-9]*(?=[A-Z]|$))'\n",
    "    example['words_labels'] = ' '.join(re.findall(pattern, example['labels'])).lower()\n",
    "    example['words_predictions'] = ' '.join(re.findall(pattern, example['prediction'])).lower()\n",
    "    return example"
   ],
   "metadata": {
    "collapsed": false,
    "ExecuteTime": {
     "start_time": "2023-12-22T14:37:44.228294Z",
     "end_time": "2023-12-22T14:37:44.264701Z"
    }
   }
  },
  {
   "cell_type": "code",
   "execution_count": 6,
   "outputs": [],
   "source": [
    "predictions_dataset = predictions_dataset.map(split)"
   ],
   "metadata": {
    "collapsed": false,
    "ExecuteTime": {
     "start_time": "2023-12-22T14:37:47.652114Z",
     "end_time": "2023-12-22T14:37:47.680437Z"
    }
   }
  },
  {
   "cell_type": "code",
   "execution_count": 102,
   "outputs": [],
   "source": [
    "rouge = load('rouge')"
   ],
   "metadata": {
    "collapsed": false,
    "ExecuteTime": {
     "start_time": "2023-12-22T12:29:41.471255Z",
     "end_time": "2023-12-22T12:29:42.491639Z"
    }
   }
  },
  {
   "cell_type": "code",
   "execution_count": 103,
   "outputs": [],
   "source": [
    "rouge_results = rouge.compute(\n",
    "    predictions=predictions_dataset['words_predictions'],\n",
    "    references=predictions_dataset['words_labels']\n",
    ")\n",
    "\n",
    "for k, v in rouge_results.items():\n",
    "    rouge_results[k] = float(v)"
   ],
   "metadata": {
    "collapsed": false,
    "ExecuteTime": {
     "start_time": "2023-12-22T12:29:42.501012Z",
     "end_time": "2023-12-22T12:29:42.895573Z"
    }
   }
  },
  {
   "cell_type": "code",
   "execution_count": 104,
   "outputs": [],
   "source": [
    "Path(path_to_save_metrics).mkdir(parents=True, exist_ok=True)"
   ],
   "metadata": {
    "collapsed": false,
    "ExecuteTime": {
     "start_time": "2023-12-22T12:29:42.898573Z",
     "end_time": "2023-12-22T12:29:42.913573Z"
    }
   }
  },
  {
   "cell_type": "code",
   "execution_count": 105,
   "outputs": [],
   "source": [
    "metrics = {\n",
    "    \"rouge_results\": rouge_results\n",
    "}"
   ],
   "metadata": {
    "collapsed": false,
    "ExecuteTime": {
     "start_time": "2023-12-22T12:29:42.914532Z",
     "end_time": "2023-12-22T12:29:42.956125Z"
    }
   }
  },
  {
   "cell_type": "code",
   "execution_count": 107,
   "outputs": [],
   "source": [
    "with open(os.path.join(path_to_save_metrics, 'metrics.yml'), 'w') as f:\n",
    "    yaml.dump(metrics, f)"
   ],
   "metadata": {
    "collapsed": false,
    "ExecuteTime": {
     "start_time": "2023-12-22T12:29:42.945925Z",
     "end_time": "2023-12-22T12:29:42.966047Z"
    }
   }
  }
 ],
 "metadata": {
  "kernelspec": {
   "display_name": "Python 3",
   "language": "python",
   "name": "python3"
  },
  "language_info": {
   "codemirror_mode": {
    "name": "ipython",
    "version": 2
   },
   "file_extension": ".py",
   "mimetype": "text/x-python",
   "name": "python",
   "nbconvert_exporter": "python",
   "pygments_lexer": "ipython2",
   "version": "2.7.6"
  }
 },
 "nbformat": 4,
 "nbformat_minor": 0
}
