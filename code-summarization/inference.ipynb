{
 "cells": [
  {
   "cell_type": "code",
   "execution_count": 1,
   "outputs": [],
   "source": [
    "from transformers import AutoModel, AutoTokenizer\n",
    "from datasets import load_dataset\n",
    "from torch.utils.data import DataLoader\n",
    "from tqdm import tqdm\n",
    "from pathlib import Path\n",
    "import pandas as pd\n",
    "import torch\n",
    "import gc\n",
    "\n",
    "checkpoint = \"Salesforce/codet5p-220m-bimodal\"\n",
    "path_to_model = ''\n",
    "path_to_dataset = ''\n",
    "output_dir = ''\n",
    "device = \"cuda\"  if torch.cuda.is_available() else \"cpu\""
   ],
   "metadata": {
    "collapsed": false,
    "ExecuteTime": {
     "start_time": "2023-12-22T14:56:20.507593Z",
     "end_time": "2023-12-22T14:56:27.277921Z"
    }
   }
  },
  {
   "cell_type": "code",
   "execution_count": 2,
   "outputs": [],
   "source": [
    "tokenizer = AutoTokenizer.from_pretrained(checkpoint, trust_remote_code=True)\n",
    "model = AutoModel.from_pretrained(\n",
    "    path_to_model if not path_to_model == '' else checkpoint,\n",
    "    trust_remote_code=True).to(device)"
   ],
   "metadata": {
    "collapsed": false,
    "ExecuteTime": {
     "start_time": "2023-12-22T14:56:27.289153Z",
     "end_time": "2023-12-22T14:56:33.051229Z"
    }
   }
  },
  {
   "cell_type": "code",
   "execution_count": 3,
   "outputs": [],
   "source": [
    "Path(output_dir).mkdir(parents=True, exist_ok=True)"
   ],
   "metadata": {
    "collapsed": false,
    "ExecuteTime": {
     "start_time": "2023-12-22T14:56:33.060548Z",
     "end_time": "2023-12-22T14:56:33.073048Z"
    }
   }
  },
  {
   "cell_type": "code",
   "execution_count": 7,
   "outputs": [],
   "source": [
    "dataset = load_dataset(\"json\", data_files=path_to_dataset)[\"train\"].with_format(\"torch\")\n",
    "dataloader = DataLoader(dataset, batch_size=4)"
   ],
   "metadata": {
    "collapsed": false,
    "ExecuteTime": {
     "start_time": "2023-12-22T15:01:19.153840Z",
     "end_time": "2023-12-22T15:01:20.027377Z"
    }
   }
  },
  {
   "cell_type": "code",
   "execution_count": 8,
   "outputs": [
    {
     "data": {
      "text/plain": "95"
     },
     "execution_count": 8,
     "metadata": {},
     "output_type": "execute_result"
    }
   ],
   "source": [
    "torch.cuda.empty_cache()\n",
    "gc.collect()"
   ],
   "metadata": {
    "collapsed": false,
    "ExecuteTime": {
     "start_time": "2023-12-22T15:01:23.488667Z",
     "end_time": "2023-12-22T15:01:24.603462Z"
    }
   }
  },
  {
   "cell_type": "code",
   "execution_count": 9,
   "outputs": [
    {
     "name": "stderr",
     "output_type": "stream",
     "text": [
      "Loss: 1.3814: 100%|██████████| 1250/1250 [02:51<00:00,  7.28it/s]\n"
     ]
    }
   ],
   "source": [
    "predictions = {\n",
    "    \"input_ids\": [],\n",
    "    \"labels\": [],\n",
    "    \"pred_ids\": []\n",
    "}\n",
    "\n",
    "pba = tqdm(dataloader)\n",
    "for batch in pba:\n",
    "    for k, v in batch.items():\n",
    "        batch[k] = v.squeeze(1).to(device)\n",
    "\n",
    "    with torch.no_grad():\n",
    "        outputs = model(**batch)\n",
    "\n",
    "    predictions[\"input_ids\"].extend(batch[\"input_ids\"].cpu().numpy())\n",
    "    predictions[\"labels\"].extend(batch[\"labels\"].cpu().numpy())\n",
    "    predictions[\"pred_ids\"].extend(outputs.logits.argmax(-1).cpu().numpy())\n",
    "    pba.set_description(f\"Loss: {outputs.loss.item():.4f}\")"
   ],
   "metadata": {
    "collapsed": false,
    "ExecuteTime": {
     "start_time": "2023-12-22T15:01:27.638077Z",
     "end_time": "2023-12-22T15:04:19.327552Z"
    }
   }
  },
  {
   "cell_type": "code",
   "execution_count": 10,
   "outputs": [],
   "source": [
    "def decode_predictions(predictions):\n",
    "    decoded_preds = {\n",
    "        \"input_code\": [],\n",
    "        \"labels\": [],\n",
    "        \"prediction\": []\n",
    "    }\n",
    "    for i in range(len(predictions[\"input_ids\"])):\n",
    "        decoded_preds[\"input_code\"].append(tokenizer.decode(predictions[\"input_ids\"][i], skip_special_tokens=True))\n",
    "        labels = torch.LongTensor(predictions[\"labels\"][i])\n",
    "        labels = labels[labels != -100]\n",
    "        decoded_preds[\"labels\"].append(tokenizer.decode(labels, skip_special_tokens=True))\n",
    "        decoded_preds[\"prediction\"].append(tokenizer.decode(predictions[\"pred_ids\"][i], skip_special_tokens=True))\n",
    "\n",
    "    return decoded_preds"
   ],
   "metadata": {
    "collapsed": false,
    "ExecuteTime": {
     "start_time": "2023-12-22T15:05:07.155564Z",
     "end_time": "2023-12-22T15:05:07.202582Z"
    }
   }
  },
  {
   "cell_type": "code",
   "execution_count": 11,
   "outputs": [],
   "source": [
    "predictions = decode_predictions(predictions)"
   ],
   "metadata": {
    "collapsed": false,
    "ExecuteTime": {
     "start_time": "2023-12-22T15:05:13.524835Z",
     "end_time": "2023-12-22T15:05:14.349274Z"
    }
   }
  },
  {
   "cell_type": "code",
   "execution_count": 12,
   "outputs": [],
   "source": [
    "df = pd.DataFrame(predictions, columns=[\"input_code\", \"labels\", \"prediction\"])"
   ],
   "metadata": {
    "collapsed": false,
    "ExecuteTime": {
     "start_time": "2023-12-22T15:05:19.990913Z",
     "end_time": "2023-12-22T15:05:20.034377Z"
    }
   }
  },
  {
   "cell_type": "code",
   "execution_count": 13,
   "outputs": [],
   "source": [
    "df.to_json(output_dir + \"/predictions.jsonl\", orient=\"records\", lines=True)"
   ],
   "metadata": {
    "collapsed": false,
    "ExecuteTime": {
     "start_time": "2023-12-22T15:05:25.721606Z",
     "end_time": "2023-12-22T15:05:25.796010Z"
    }
   }
  }
 ],
 "metadata": {
  "kernelspec": {
   "display_name": "Python 3",
   "language": "python",
   "name": "python3"
  },
  "language_info": {
   "codemirror_mode": {
    "name": "ipython",
    "version": 2
   },
   "file_extension": ".py",
   "mimetype": "text/x-python",
   "name": "python",
   "nbconvert_exporter": "python",
   "pygments_lexer": "ipython2",
   "version": "2.7.6"
  }
 },
 "nbformat": 4,
 "nbformat_minor": 0
}
