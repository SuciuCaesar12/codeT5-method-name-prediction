{
 "cells": [
  {
   "cell_type": "code",
   "execution_count": null,
   "metadata": {
    "collapsed": true,
    "ExecuteTime": {
     "start_time": "2023-12-24T13:48:53.521428Z",
     "end_time": "2023-12-24T13:48:53.542843Z"
    }
   },
   "outputs": [],
   "source": [
    "from transformers import AutoTokenizer\n",
    "from datasets import load_dataset\n",
    "import torch\n",
    "import json\n",
    "import os"
   ]
  },
  {
   "cell_type": "code",
   "execution_count": null,
   "outputs": [],
   "source": [
    "checkpoint = \"Salesforce/codet5p-220m\"\n",
    "device = \"cuda\" if torch.cuda.is_available() else \"cpu\"\n",
    "path_dataset = r''\n",
    "path_to_save = r''\n",
    "filename = ''"
   ],
   "metadata": {
    "collapsed": false,
    "ExecuteTime": {
     "start_time": "2023-12-24T13:48:53.553023Z",
     "end_time": "2023-12-24T13:48:53.582763Z"
    }
   }
  },
  {
   "cell_type": "code",
   "execution_count": null,
   "outputs": [],
   "source": [
    "dataset = load_dataset('csv', data_files=path_dataset)['train']"
   ],
   "metadata": {
    "collapsed": false,
    "ExecuteTime": {
     "start_time": "2023-12-24T13:48:53.583773Z",
     "end_time": "2023-12-24T13:48:54.949481Z"
    }
   }
  },
  {
   "cell_type": "code",
   "execution_count": null,
   "outputs": [],
   "source": [
    "# replace the method name in code with <extra_id_0> token for mask filling\n",
    "def remove(example):\n",
    "    example['code'] = example['code'].replace(example['name'], '<extra_id_0>')\n",
    "    return example"
   ],
   "metadata": {
    "collapsed": false,
    "ExecuteTime": {
     "start_time": "2023-12-24T13:48:54.939562Z",
     "end_time": "2023-12-24T13:48:54.976971Z"
    }
   }
  },
  {
   "cell_type": "code",
   "execution_count": null,
   "outputs": [],
   "source": [
    "dataset = dataset.map(remove)"
   ],
   "metadata": {
    "collapsed": false,
    "ExecuteTime": {
     "start_time": "2023-12-24T13:48:54.953971Z",
     "end_time": "2023-12-24T13:48:56.845695Z"
    }
   }
  },
  {
   "cell_type": "code",
   "execution_count": null,
   "outputs": [],
   "source": [
    "def modify_target(example):\n",
    "    example['labels'] = ' '.join(['<extra_id_0>'] + [example['name']] + ['<extra_id_1>'])\n",
    "    return example"
   ],
   "metadata": {
    "collapsed": false,
    "ExecuteTime": {
     "start_time": "2023-12-24T13:48:56.811953Z",
     "end_time": "2023-12-24T13:48:56.845695Z"
    }
   }
  },
  {
   "cell_type": "code",
   "execution_count": null,
   "outputs": [],
   "source": [
    "dataset = dataset.map(modify_target, remove_columns=['name'])"
   ],
   "metadata": {
    "collapsed": false,
    "ExecuteTime": {
     "start_time": "2023-12-24T13:48:56.826306Z",
     "end_time": "2023-12-24T13:48:58.590591Z"
    }
   }
  },
  {
   "cell_type": "code",
   "execution_count": null,
   "outputs": [],
   "source": [
    "batch_size = 8\n",
    "max_length = 256"
   ],
   "metadata": {
    "collapsed": false,
    "ExecuteTime": {
     "start_time": "2023-12-24T13:48:58.597594Z",
     "end_time": "2023-12-24T13:48:58.627278Z"
    }
   }
  },
  {
   "cell_type": "code",
   "execution_count": null,
   "outputs": [],
   "source": [
    "tokenizer = AutoTokenizer.from_pretrained(checkpoint, trust_remote_code=True)"
   ],
   "metadata": {
    "collapsed": false,
    "ExecuteTime": {
     "start_time": "2023-12-24T13:48:58.612424Z",
     "end_time": "2023-12-24T13:49:00.162996Z"
    }
   }
  },
  {
   "cell_type": "code",
   "execution_count": null,
   "outputs": [],
   "source": [
    "def batch_tokenize_function(batch):\n",
    "    model_inputs = tokenizer(batch['code'], padding=True, truncation=True, max_length=max_length, return_tensors='pt')\n",
    "\n",
    "    labels = tokenizer(batch['labels'], padding=True, truncation=True, max_length=max_length, return_tensors='pt').input_ids\n",
    "    labels[labels == tokenizer.pad_token_id] = -100\n",
    "    model_inputs['labels'] = labels\n",
    "\n",
    "    return model_inputs"
   ],
   "metadata": {
    "collapsed": false,
    "ExecuteTime": {
     "start_time": "2023-12-24T13:49:00.168998Z",
     "end_time": "2023-12-24T13:49:00.177058Z"
    }
   }
  },
  {
   "cell_type": "code",
   "execution_count": null,
   "outputs": [],
   "source": [
    "dataset = dataset\\\n",
    "    .shuffle()\\\n",
    "    .map(batch_tokenize_function, batched=True, batch_size=batch_size, remove_columns=['code']).with_format('torch')\\\n",
    "    .select(range(len(dataset) - len(dataset) % batch_size))"
   ],
   "metadata": {
    "collapsed": false,
    "ExecuteTime": {
     "start_time": "2023-12-24T13:49:00.181065Z",
     "end_time": "2023-12-24T13:49:16.099344Z"
    }
   }
  },
  {
   "cell_type": "code",
   "execution_count": null,
   "outputs": [],
   "source": [
    "dataset.to_json(os.path.join(path_to_save, filename + '.jsonl'))"
   ],
   "metadata": {
    "collapsed": false,
    "ExecuteTime": {
     "start_time": "2023-12-24T13:49:16.103240Z",
     "end_time": "2023-12-24T13:49:17.937158Z"
    }
   }
  },
  {
   "cell_type": "code",
   "execution_count": null,
   "outputs": [],
   "source": [
    "with open(os.path.join(path_to_save, filename + '.json'), 'w') as f:\n",
    "    json.dump({'batch_size': batch_size, 'max_length': max_length}, f)"
   ],
   "metadata": {
    "collapsed": false,
    "ExecuteTime": {
     "start_time": "2023-12-24T13:49:17.938886Z",
     "end_time": "2023-12-24T13:49:17.980282Z"
    }
   }
  }
 ],
 "metadata": {
  "kernelspec": {
   "display_name": "Python 3",
   "language": "python",
   "name": "python3"
  },
  "language_info": {
   "codemirror_mode": {
    "name": "ipython",
    "version": 2
   },
   "file_extension": ".py",
   "mimetype": "text/x-python",
   "name": "python",
   "nbconvert_exporter": "python",
   "pygments_lexer": "ipython2",
   "version": "2.7.6"
  }
 },
 "nbformat": 4,
 "nbformat_minor": 0
}
