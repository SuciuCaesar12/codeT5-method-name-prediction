{
 "cells": [
  {
   "cell_type": "code",
   "execution_count": null,
   "metadata": {
    "collapsed": true,
    "ExecuteTime": {
     "start_time": "2023-12-25T19:42:45.182659Z",
     "end_time": "2023-12-25T19:42:45.196547Z"
    }
   },
   "outputs": [],
   "source": [
    "from transformers import AutoTokenizer\n",
    "from datasets import load_dataset\n",
    "import torch\n",
    "import json\n",
    "import os"
   ]
  },
  {
   "cell_type": "code",
   "execution_count": null,
   "outputs": [],
   "source": [
    "checkpoint = \"Salesforce/codet5p-220m\"\n",
    "device = \"cuda\" if torch.cuda.is_available() else \"cpu\"\n",
    "path_dataset = r''\n",
    "path_to_save = r''\n",
    "filename = 'intellij-test-dataset'"
   ],
   "metadata": {
    "collapsed": false,
    "ExecuteTime": {
     "start_time": "2023-12-25T19:42:45.209775Z",
     "end_time": "2023-12-25T19:42:45.252769Z"
    }
   }
  },
  {
   "cell_type": "code",
   "execution_count": null,
   "outputs": [],
   "source": [
    "dataset = load_dataset('csv', data_files=path_dataset)['train']"
   ],
   "metadata": {
    "collapsed": false,
    "ExecuteTime": {
     "start_time": "2023-12-25T19:42:45.237674Z",
     "end_time": "2023-12-25T19:42:46.641542Z"
    }
   }
  },
  {
   "cell_type": "code",
   "execution_count": null,
   "outputs": [],
   "source": [
    "# replace the method name in code with <extra_id_0> token for mask filling\n",
    "def remove(example):\n",
    "    example['code'] = example['code'].replace(example['name'], '<extra_id_0>')\n",
    "    return example"
   ],
   "metadata": {
    "collapsed": false,
    "ExecuteTime": {
     "start_time": "2023-12-25T19:42:46.644536Z",
     "end_time": "2023-12-25T19:42:46.656564Z"
    }
   }
  },
  {
   "cell_type": "code",
   "execution_count": null,
   "outputs": [],
   "source": [
    "dataset = dataset.map(remove)"
   ],
   "metadata": {
    "collapsed": false,
    "ExecuteTime": {
     "start_time": "2023-12-25T19:42:46.660322Z",
     "end_time": "2023-12-25T19:42:49.287798Z"
    }
   }
  },
  {
   "cell_type": "code",
   "execution_count": null,
   "outputs": [],
   "source": [
    "def modify_target(example):\n",
    "    example['labels'] = ' '.join(['<extra_id_0>'] + [example['name']] + ['<extra_id_1>'])\n",
    "    return example"
   ],
   "metadata": {
    "collapsed": false,
    "ExecuteTime": {
     "start_time": "2023-12-25T19:42:49.290490Z",
     "end_time": "2023-12-25T19:42:49.299079Z"
    }
   }
  },
  {
   "cell_type": "code",
   "execution_count": null,
   "outputs": [],
   "source": [
    "dataset = dataset.map(modify_target, remove_columns=['name'])"
   ],
   "metadata": {
    "collapsed": false,
    "ExecuteTime": {
     "start_time": "2023-12-25T19:42:49.304051Z",
     "end_time": "2023-12-25T19:42:52.605320Z"
    }
   }
  },
  {
   "cell_type": "code",
   "execution_count": null,
   "outputs": [],
   "source": [
    "batch_size = 8\n",
    "max_length = 256"
   ],
   "metadata": {
    "collapsed": false,
    "ExecuteTime": {
     "start_time": "2023-12-25T19:42:52.608092Z",
     "end_time": "2023-12-25T19:42:52.622229Z"
    }
   }
  },
  {
   "cell_type": "code",
   "execution_count": null,
   "outputs": [],
   "source": [
    "tokenizer = AutoTokenizer.from_pretrained(checkpoint, trust_remote_code=True)"
   ],
   "metadata": {
    "collapsed": false,
    "ExecuteTime": {
     "start_time": "2023-12-25T19:42:52.624310Z",
     "end_time": "2023-12-25T19:42:53.270361Z"
    }
   }
  },
  {
   "cell_type": "markdown",
   "source": [
    "- To enhance computational efficiency, the dataset will be preprocessed into batches. Each list of ids will be padded to the maximum length of the batch.\n",
    "- It is crucial not to shuffle the dataset after this preprocessing step. The order of examples is intricately linked to their length. Maintaining this order is particularly important when selecting a number that evenly divides the batch size. This ensures that batches of the same length are created, facilitating the use of data loaders."
   ],
   "metadata": {
    "collapsed": false
   }
  },
  {
   "cell_type": "code",
   "execution_count": null,
   "outputs": [],
   "source": [
    "def batch_tokenize_function(batch):\n",
    "    model_inputs = tokenizer(batch['code'], padding=True, truncation=True, max_length=max_length, return_tensors='pt')\n",
    "\n",
    "    labels = tokenizer(batch['labels'], padding=True, truncation=True, max_length=max_length, return_tensors='pt').input_ids\n",
    "    labels[labels == tokenizer.pad_token_id] = -100\n",
    "    model_inputs['labels'] = labels\n",
    "\n",
    "    return model_inputs"
   ],
   "metadata": {
    "collapsed": false,
    "ExecuteTime": {
     "start_time": "2023-12-25T19:42:53.274905Z",
     "end_time": "2023-12-25T19:42:53.282441Z"
    }
   }
  },
  {
   "cell_type": "code",
   "execution_count": null,
   "outputs": [],
   "source": [
    "dataset = dataset\\\n",
    "    .shuffle()\\\n",
    "    .map(batch_tokenize_function, batched=True, batch_size=batch_size, remove_columns=['code']).with_format('torch')\\\n",
    "    .select(range(len(dataset) - len(dataset) % batch_size))"
   ],
   "metadata": {
    "collapsed": false,
    "ExecuteTime": {
     "start_time": "2023-12-25T19:42:53.287297Z",
     "end_time": "2023-12-25T19:43:15.589201Z"
    }
   }
  },
  {
   "cell_type": "code",
   "execution_count": null,
   "outputs": [],
   "source": [
    "dataset.to_json(os.path.join(path_to_save, filename + '.jsonl'))"
   ],
   "metadata": {
    "collapsed": false,
    "ExecuteTime": {
     "start_time": "2023-12-25T19:43:15.590702Z",
     "end_time": "2023-12-25T19:43:20.262751Z"
    }
   }
  },
  {
   "cell_type": "code",
   "execution_count": null,
   "outputs": [],
   "source": [
    "with open(os.path.join(path_to_save, filename + '.json'), 'w') as f:\n",
    "    json.dump({'batch_size': batch_size, 'max_length': max_length}, f)"
   ],
   "metadata": {
    "collapsed": false,
    "ExecuteTime": {
     "start_time": "2023-12-25T19:43:20.268038Z",
     "end_time": "2023-12-25T19:43:20.300197Z"
    }
   }
  }
 ],
 "metadata": {
  "kernelspec": {
   "display_name": "Python 3",
   "language": "python",
   "name": "python3"
  },
  "language_info": {
   "codemirror_mode": {
    "name": "ipython",
    "version": 2
   },
   "file_extension": ".py",
   "mimetype": "text/x-python",
   "name": "python",
   "nbconvert_exporter": "python",
   "pygments_lexer": "ipython2",
   "version": "2.7.6"
  }
 },
 "nbformat": 4,
 "nbformat_minor": 0
}
