{
 "cells": [
  {
   "cell_type": "code",
   "execution_count": 159,
   "metadata": {
    "collapsed": true,
    "ExecuteTime": {
     "start_time": "2023-12-16T23:23:06.109397Z",
     "end_time": "2023-12-16T23:23:06.149417Z"
    }
   },
   "outputs": [],
   "source": [
    "import glob\n",
    "import os\n",
    "import regex as re\n",
    "from tqdm import tqdm\n",
    "\n",
    "def extract_methods(root_path):\n",
    "    method_pattern = re.compile(r'\\b(?:public|private|protected|static|final|\\s)+\\w+\\s+\\w+\\([^)]*\\)\\s*\\{(?:[^{}]|(?R))*\\}')\n",
    "\n",
    "    method_texts = []\n",
    "    files = glob.glob(os.path.join(root_path, '**/*.java'), recursive=True)\n",
    "    pbar = tqdm(files, desc='Extracting methods', unit='file', leave=True)\n",
    "    for file in pbar:\n",
    "        pbar.set_postfix(file=os.path.basename(file))\n",
    "        with open(file, 'r', encoding='utf-8', errors='ignore') as f:\n",
    "            file_text = f.read()\n",
    "            method_texts += method_pattern.findall(file_text)\n",
    "\n",
    "        if len(method_texts) > 1000:\n",
    "            break\n",
    "\n",
    "    return method_texts"
   ]
  },
  {
   "cell_type": "code",
   "execution_count": 160,
   "outputs": [
    {
     "name": "stderr",
     "output_type": "stream",
     "text": [
      "Extracting methods:   0%|          | 308/68678 [00:00<03:17, 346.88file/s, file=JavacConfigurable.java]                              \n",
      "Extracting methods:   0%|          | 308/68678 [00:00<02:36, 438.04file/s, file=JavacConfigurable.java]                              \n"
     ]
    }
   ],
   "source": [
    "path_to_intellij = r'../intellij-community' # path to the intellij community folder\n",
    "samples = extract_methods(path_to_intellij)"
   ],
   "metadata": {
    "collapsed": false,
    "ExecuteTime": {
     "start_time": "2023-12-16T23:23:06.105370Z",
     "end_time": "2023-12-16T23:23:13.883879Z"
    }
   }
  },
  {
   "cell_type": "code",
   "execution_count": 161,
   "outputs": [],
   "source": [
    "# create a function to extract method name from a given method text\n",
    "def extract_method_name(method_text):\n",
    "    # Regular expression to extract the method name\n",
    "    method_name_pattern = re.compile(r'\\b\\w+\\s+(\\w+)(?=\\([^)]*\\))')\n",
    "    # Match the method name\n",
    "    match = method_name_pattern.search(method_text)\n",
    "    # Extract and return the method name (group 1)\n",
    "    return match.group(1) if match else None"
   ],
   "metadata": {
    "collapsed": false,
    "ExecuteTime": {
     "start_time": "2023-12-16T23:23:13.881571Z",
     "end_time": "2023-12-16T23:23:13.903493Z"
    }
   }
  },
  {
   "cell_type": "code",
   "execution_count": 162,
   "outputs": [],
   "source": [
    "# extract method names from the samples\n",
    "samples = [[s, extract_method_name(s)] for s in samples]"
   ],
   "metadata": {
    "collapsed": false,
    "ExecuteTime": {
     "start_time": "2023-12-16T23:23:13.895475Z",
     "end_time": "2023-12-16T23:23:13.927990Z"
    }
   }
  },
  {
   "cell_type": "code",
   "execution_count": 163,
   "outputs": [],
   "source": [
    "# shuffle and split in 60% train, 20% validation and 20% test\n",
    "import random\n",
    "random.shuffle(samples)\n",
    "train_samples = samples[:int(len(samples)*0.6)]\n",
    "val_samples = samples[int(len(samples)*0.6):int(len(samples)*0.8)]\n",
    "test_samples = samples[int(len(samples)*0.8):]"
   ],
   "metadata": {
    "collapsed": false,
    "ExecuteTime": {
     "start_time": "2023-12-16T23:23:13.928492Z",
     "end_time": "2023-12-16T23:23:13.945170Z"
    }
   }
  },
  {
   "cell_type": "code",
   "execution_count": 168,
   "outputs": [],
   "source": [
    "import pandas as pd\n",
    "path_to_save = r'' # path to save the csv files\n",
    "files = ['train.csv', 'val.csv', 'test.csv']\n",
    "samples = [train_samples, val_samples, test_samples]\n",
    "\n",
    "for file, sample in zip(files, samples):\n",
    "    df = pd.DataFrame(sample, columns=['method', 'method_name'])\n",
    "    df.to_csv(os.path.join(path_to_save, file), index=True)\n"
   ],
   "metadata": {
    "collapsed": false,
    "ExecuteTime": {
     "start_time": "2023-12-16T23:24:53.896542Z",
     "end_time": "2023-12-16T23:24:53.975931Z"
    }
   }
  }
 ],
 "metadata": {
  "kernelspec": {
   "display_name": "Python 3",
   "language": "python",
   "name": "python3"
  },
  "language_info": {
   "codemirror_mode": {
    "name": "ipython",
    "version": 2
   },
   "file_extension": ".py",
   "mimetype": "text/x-python",
   "name": "python",
   "nbconvert_exporter": "python",
   "pygments_lexer": "ipython2",
   "version": "2.7.6"
  }
 },
 "nbformat": 4,
 "nbformat_minor": 0
}
