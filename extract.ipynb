{
 "cells": [
  {
   "cell_type": "code",
   "execution_count": 136,
   "metadata": {
    "collapsed": true,
    "ExecuteTime": {
     "start_time": "2023-12-16T22:52:19.605502Z",
     "end_time": "2023-12-16T22:52:19.647304Z"
    }
   },
   "outputs": [],
   "source": [
    "import glob\n",
    "import os\n",
    "import regex as re\n",
    "from tqdm import tqdm\n",
    "\n",
    "def extract_methods(root_path):\n",
    "    method_pattern = re.compile(r'\\b(?:public|private|protected|static|final|\\s)+\\w+\\s+\\w+\\([^)]*\\)\\s*\\{(?:[^{}]|(?R))*\\}')\n",
    "\n",
    "    method_texts = []\n",
    "    files = glob.glob(os.path.join(root_path, '**/*.java'), recursive=True)\n",
    "    pbar = tqdm(files, desc='Extracting methods', unit='file', leave=True)\n",
    "    for file in pbar:\n",
    "        pbar.set_postfix(file=os.path.basename(file))\n",
    "        with open(file, 'r', encoding='utf-8', errors='ignore') as f:\n",
    "            file_text = f.read()\n",
    "            method_texts += method_pattern.findall(file_text)\n",
    "\n",
    "        if len(method_texts) > 1000:\n",
    "            break\n",
    "\n",
    "    return method_texts"
   ]
  },
  {
   "cell_type": "code",
   "execution_count": 137,
   "outputs": [
    {
     "name": "stderr",
     "output_type": "stream",
     "text": [
      "Extracting methods:   0%|          | 308/68678 [00:00<02:31, 451.41file/s, file=JavacConfigurable.java]                              \n"
     ]
    }
   ],
   "source": [
    "path_to_intellij = r'' # path to the intellij community folder\n",
    "samples = extract_methods(path_to_intellij)"
   ],
   "metadata": {
    "collapsed": false,
    "ExecuteTime": {
     "start_time": "2023-12-16T22:52:19.627098Z",
     "end_time": "2023-12-16T22:52:29.366444Z"
    }
   }
  },
  {
   "cell_type": "code",
   "execution_count": 138,
   "outputs": [],
   "source": [
    "# create a function to extract method name from a given method text\n",
    "def extract_method_name(method_text):\n",
    "    # Regular expression to extract the method name\n",
    "    method_name_pattern = re.compile(r'\\b\\w+\\s+(\\w+)(?=\\([^)]*\\))')\n",
    "    # Match the method name\n",
    "    match = method_name_pattern.search(method_text)\n",
    "    # Extract and return the method name (group 1)\n",
    "    return match.group(1) if match else None"
   ],
   "metadata": {
    "collapsed": false,
    "ExecuteTime": {
     "start_time": "2023-12-16T22:52:29.354160Z",
     "end_time": "2023-12-16T22:52:29.397048Z"
    }
   }
  },
  {
   "cell_type": "code",
   "execution_count": 139,
   "outputs": [],
   "source": [
    "# extract method names from the samples\n",
    "samples = [(s, extract_method_name(s)) for s in samples]"
   ],
   "metadata": {
    "collapsed": false,
    "ExecuteTime": {
     "start_time": "2023-12-16T22:52:29.381023Z",
     "end_time": "2023-12-16T22:52:29.413567Z"
    }
   }
  },
  {
   "cell_type": "code",
   "execution_count": 140,
   "outputs": [],
   "source": [
    "# shuffle and split in 60% train, 20% validation and 20% test\n",
    "import random\n",
    "random.shuffle(samples)\n",
    "train_samples = samples[:int(len(samples)*0.6)]\n",
    "val_samples = samples[int(len(samples)*0.6):int(len(samples)*0.8)]\n",
    "test_samples = samples[int(len(samples)*0.8):]"
   ],
   "metadata": {
    "collapsed": false,
    "ExecuteTime": {
     "start_time": "2023-12-16T22:52:29.431537Z",
     "end_time": "2023-12-16T22:52:29.461693Z"
    }
   }
  },
  {
   "cell_type": "code",
   "execution_count": 141,
   "outputs": [],
   "source": [
    "import pandas as pd\n",
    "path_to_save = r'' # path to save the csv files\n",
    "files = ['train.csv', 'val.csv', 'test.csv']\n",
    "samples = [train_samples, val_samples, test_samples]\n",
    "\n",
    "for file, sample in zip(files, samples):\n",
    "    df = pd.DataFrame(sample, columns=['method', 'method_name'])\n",
    "    df.to_csv(os.path.join(path_to_save, file), index=False)\n"
   ],
   "metadata": {
    "collapsed": false,
    "ExecuteTime": {
     "start_time": "2023-12-16T22:52:29.441500Z",
     "end_time": "2023-12-16T22:52:29.515044Z"
    }
   }
  }
 ],
 "metadata": {
  "kernelspec": {
   "display_name": "Python 3",
   "language": "python",
   "name": "python3"
  },
  "language_info": {
   "codemirror_mode": {
    "name": "ipython",
    "version": 2
   },
   "file_extension": ".py",
   "mimetype": "text/x-python",
   "name": "python",
   "nbconvert_exporter": "python",
   "pygments_lexer": "ipython2",
   "version": "2.7.6"
  }
 },
 "nbformat": 4,
 "nbformat_minor": 0
}
