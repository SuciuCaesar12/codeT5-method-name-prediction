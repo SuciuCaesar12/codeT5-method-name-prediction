{
 "cells": [
  {
   "cell_type": "code",
   "execution_count": null,
   "outputs": [],
   "source": [
    "from transformers import AutoModel, AutoTokenizer, T5ForConditionalGeneration\n",
    "from datasets import load_dataset\n",
    "from torch.utils.data import DataLoader\n",
    "from tqdm import tqdm\n",
    "from pathlib import Path\n",
    "import pandas as pd\n",
    "import torch\n",
    "import gc\n",
    "\n",
    "checkpoint = 'Salesforce/codet5p-220m'\n",
    "path_to_model = r'' # path to model\n",
    "path_to_dataset = r'' # path to dataset\n",
    "output_dir = r'' # path to output directory\n",
    "device = 'cuda' if torch.cuda.is_available() else 'cpu'\n",
    "task = 'mask-prediction'  # 'code-summarization' or 'mask-prediction'"
   ],
   "metadata": {
    "collapsed": false,
    "ExecuteTime": {
     "start_time": "2023-12-25T19:47:33.639198Z",
     "end_time": "2023-12-25T19:47:33.711301Z"
    }
   }
  },
  {
   "cell_type": "code",
   "execution_count": null,
   "outputs": [],
   "source": [
    "tokenizer = AutoTokenizer.from_pretrained(checkpoint, trust_remote_code=True)\n",
    "modeling = T5ForConditionalGeneration if task == 'mask-prediction' else AutoModel\n",
    "\n",
    "print(f'Task: {task}')\n",
    "\n",
    "if path_to_model:\n",
    "    model = modeling.from_pretrained(\n",
    "        path_to_model,\n",
    "        trust_remote_code=True).to(device)\n",
    "    print(\"Loaded model from path\")\n",
    "else:\n",
    "    model = modeling.from_pretrained(\n",
    "        checkpoint,\n",
    "        trust_remote_code=True).to(device)\n",
    "    print(\"Loaded model from checkpoint\")"
   ],
   "metadata": {
    "collapsed": false,
    "ExecuteTime": {
     "start_time": "2023-12-25T19:47:33.660430Z",
     "end_time": "2023-12-25T19:47:38.993551Z"
    }
   }
  },
  {
   "cell_type": "code",
   "execution_count": null,
   "outputs": [],
   "source": [
    "Path(output_dir).mkdir(parents=True, exist_ok=True)"
   ],
   "metadata": {
    "collapsed": false,
    "ExecuteTime": {
     "start_time": "2023-12-25T19:47:38.996698Z",
     "end_time": "2023-12-25T19:47:39.034290Z"
    }
   }
  },
  {
   "cell_type": "code",
   "execution_count": null,
   "outputs": [],
   "source": [
    "dataset = load_dataset(\"json\", data_files=path_to_dataset)[\"train\"].with_format(\"torch\")\n",
    "dataloader = DataLoader(dataset, batch_size=4)"
   ],
   "metadata": {
    "collapsed": false,
    "ExecuteTime": {
     "start_time": "2023-12-25T19:47:39.013453Z",
     "end_time": "2023-12-25T19:47:40.502526Z"
    }
   }
  },
  {
   "cell_type": "code",
   "execution_count": null,
   "outputs": [],
   "source": [
    "torch.cuda.empty_cache()\n",
    "gc.collect()"
   ],
   "metadata": {
    "collapsed": false,
    "ExecuteTime": {
     "start_time": "2023-12-25T19:47:40.507079Z",
     "end_time": "2023-12-25T19:47:41.424363Z"
    }
   }
  },
  {
   "cell_type": "code",
   "execution_count": null,
   "outputs": [],
   "source": [
    "predictions = {\n",
    "    \"input_ids\": [],\n",
    "    \"labels\": [],\n",
    "    \"pred_ids\": []\n",
    "}\n",
    "\n",
    "pba = tqdm(dataloader)\n",
    "for batch in pba:\n",
    "    for k, v in batch.items():\n",
    "        batch[k] = v.squeeze(1).to(device)\n",
    "\n",
    "    with torch.no_grad():\n",
    "        outputs = model(**batch)\n",
    "\n",
    "    predictions[\"input_ids\"].extend(batch[\"input_ids\"].cpu().numpy())\n",
    "    predictions[\"labels\"].extend(batch[\"labels\"].cpu().numpy())\n",
    "    predictions[\"pred_ids\"].extend(outputs.logits.argmax(-1).cpu().numpy())\n",
    "    pba.set_description(f\"Loss: {outputs.loss.item():.4f}\")"
   ],
   "metadata": {
    "collapsed": false,
    "ExecuteTime": {
     "start_time": "2023-12-25T19:47:41.430592Z",
     "end_time": "2023-12-25T19:59:19.452210Z"
    }
   }
  },
  {
   "cell_type": "code",
   "execution_count": null,
   "outputs": [],
   "source": [
    "def decode_predictions(predictions):\n",
    "    decoded_preds = {\n",
    "        \"input_code\": [],\n",
    "        \"labels\": [],\n",
    "        \"prediction\": []\n",
    "    }\n",
    "    for i in range(len(predictions[\"input_ids\"])):\n",
    "        decoded_preds[\"input_code\"].append(tokenizer.decode(predictions[\"input_ids\"][i], skip_special_tokens=True))\n",
    "        labels = torch.LongTensor(predictions[\"labels\"][i])\n",
    "        labels = labels[labels != -100]\n",
    "        decoded_preds[\"labels\"].append(tokenizer.decode(labels, skip_special_tokens=True))\n",
    "        decoded_preds[\"prediction\"].append(tokenizer.decode(predictions[\"pred_ids\"][i], skip_special_tokens=True))\n",
    "\n",
    "    return decoded_preds"
   ],
   "metadata": {
    "collapsed": false,
    "ExecuteTime": {
     "start_time": "2023-12-25T19:59:19.469748Z",
     "end_time": "2023-12-25T19:59:19.603891Z"
    }
   }
  },
  {
   "cell_type": "code",
   "execution_count": null,
   "outputs": [],
   "source": [
    "predictions = decode_predictions(predictions)"
   ],
   "metadata": {
    "collapsed": false,
    "ExecuteTime": {
     "start_time": "2023-12-25T19:59:19.498665Z",
     "end_time": "2023-12-25T19:59:41.440100Z"
    }
   }
  },
  {
   "cell_type": "code",
   "execution_count": null,
   "outputs": [],
   "source": [
    "df = pd.DataFrame(predictions, columns=[\"input_code\", \"labels\", \"prediction\"])"
   ],
   "metadata": {
    "collapsed": false,
    "ExecuteTime": {
     "start_time": "2023-12-25T19:59:41.446331Z",
     "end_time": "2023-12-25T19:59:41.572102Z"
    }
   }
  },
  {
   "cell_type": "code",
   "execution_count": null,
   "outputs": [],
   "source": [
    "df.to_json(output_dir + \"/predictions.jsonl\", orient=\"records\", lines=True)"
   ],
   "metadata": {
    "collapsed": false,
    "ExecuteTime": {
     "start_time": "2023-12-25T19:59:41.526645Z",
     "end_time": "2023-12-25T19:59:41.861742Z"
    }
   }
  }
 ],
 "metadata": {
  "kernelspec": {
   "display_name": "Python 3",
   "language": "python",
   "name": "python3"
  },
  "language_info": {
   "codemirror_mode": {
    "name": "ipython",
    "version": 2
   },
   "file_extension": ".py",
   "mimetype": "text/x-python",
   "name": "python",
   "nbconvert_exporter": "python",
   "pygments_lexer": "ipython2",
   "version": "2.7.6"
  }
 },
 "nbformat": 4,
 "nbformat_minor": 0
}
