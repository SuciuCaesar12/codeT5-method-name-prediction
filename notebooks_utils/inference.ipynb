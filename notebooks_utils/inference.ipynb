{
 "cells": [
  {
   "cell_type": "code",
   "execution_count": null,
   "outputs": [],
   "source": [
    "from transformers import AutoModel, AutoTokenizer, T5ForConditionalGeneration\n",
    "from datasets import load_dataset\n",
    "from torch.utils.data import DataLoader\n",
    "from tqdm import tqdm\n",
    "from pathlib import Path\n",
    "import pandas as pd\n",
    "import torch\n",
    "import gc\n",
    "\n",
    "checkpoint = 'Salesforce/codet5p-220m'\n",
    "path_to_model = r''\n",
    "path_to_dataset =r''\n",
    "output_dir = r''\n",
    "device = 'cuda'  if torch.cuda.is_available() else 'cpu'\n",
    "task = 'code-summarization' # 'code-summarization' or 'mask-prediction'"
   ],
   "metadata": {
    "collapsed": false,
    "ExecuteTime": {
     "start_time": "2023-12-25T10:22:59.839131Z",
     "end_time": "2023-12-25T10:22:59.871672Z"
    }
   }
  },
  {
   "cell_type": "code",
   "execution_count": null,
   "outputs": [],
   "source": [
    "tokenizer = AutoTokenizer.from_pretrained(checkpoint, trust_remote_code=True)\n",
    "modeling = T5ForConditionalGeneration if task == 'mask-prediction' else AutoModel\n",
    "\n",
    "print(f'Task: {task}')\n",
    "\n",
    "if path_to_model:\n",
    "    model = modeling.from_pretrained(\n",
    "        path_to_model,\n",
    "        trust_remote_code=True).to(device)\n",
    "    print(\"Loaded model from path\")\n",
    "else:\n",
    "    model = modeling.from_pretrained(\n",
    "        checkpoint,\n",
    "        trust_remote_code=True).to(device)\n",
    "    print(\"Loaded model from checkpoint\")"
   ],
   "metadata": {
    "collapsed": false,
    "ExecuteTime": {
     "start_time": "2023-12-25T10:22:59.853675Z",
     "end_time": "2023-12-25T10:23:04.103133Z"
    }
   }
  },
  {
   "cell_type": "code",
   "execution_count": null,
   "outputs": [],
   "source": [
    "Path(output_dir).mkdir(parents=True, exist_ok=True)"
   ],
   "metadata": {
    "collapsed": false,
    "ExecuteTime": {
     "start_time": "2023-12-25T10:23:04.106912Z",
     "end_time": "2023-12-25T10:23:04.112260Z"
    }
   }
  },
  {
   "cell_type": "code",
   "execution_count": null,
   "outputs": [],
   "source": [
    "dataset = load_dataset(\"json\", data_files=path_to_dataset)[\"train\"].with_format(\"torch\")\n",
    "dataloader = DataLoader(dataset, batch_size=4)"
   ],
   "metadata": {
    "collapsed": false,
    "ExecuteTime": {
     "start_time": "2023-12-25T10:23:04.117728Z",
     "end_time": "2023-12-25T10:23:05.949955Z"
    }
   }
  },
  {
   "cell_type": "code",
   "execution_count": null,
   "outputs": [],
   "source": [
    "torch.cuda.empty_cache()\n",
    "gc.collect()"
   ],
   "metadata": {
    "collapsed": false,
    "ExecuteTime": {
     "start_time": "2023-12-25T10:23:05.959266Z",
     "end_time": "2023-12-25T10:23:06.266804Z"
    }
   }
  },
  {
   "cell_type": "code",
   "execution_count": null,
   "outputs": [],
   "source": [
    "predictions = {\n",
    "    \"input_ids\": [],\n",
    "    \"labels\": [],\n",
    "    \"pred_ids\": []\n",
    "}\n",
    "\n",
    "pba = tqdm(dataloader)\n",
    "for batch in pba:\n",
    "    for k, v in batch.items():\n",
    "        batch[k] = v.squeeze(1).to(device)\n",
    "\n",
    "    with torch.no_grad():\n",
    "        outputs = model(**batch)\n",
    "\n",
    "    predictions[\"input_ids\"].extend(batch[\"input_ids\"].cpu().numpy())\n",
    "    predictions[\"labels\"].extend(batch[\"labels\"].cpu().numpy())\n",
    "    predictions[\"pred_ids\"].extend(outputs.logits.argmax(-1).cpu().numpy())\n",
    "    pba.set_description(f\"Loss: {outputs.loss.item():.4f}\")"
   ],
   "metadata": {
    "collapsed": false,
    "ExecuteTime": {
     "start_time": "2023-12-25T10:23:06.273041Z",
     "end_time": "2023-12-25T10:55:50.138205Z"
    }
   }
  },
  {
   "cell_type": "code",
   "execution_count": null,
   "outputs": [],
   "source": [
    "def decode_predictions(predictions):\n",
    "    decoded_preds = {\n",
    "        \"input_code\": [],\n",
    "        \"labels\": [],\n",
    "        \"prediction\": []\n",
    "    }\n",
    "    for i in range(len(predictions[\"input_ids\"])):\n",
    "        decoded_preds[\"input_code\"].append(tokenizer.decode(predictions[\"input_ids\"][i], skip_special_tokens=True))\n",
    "        labels = torch.LongTensor(predictions[\"labels\"][i])\n",
    "        labels = labels[labels != -100]\n",
    "        decoded_preds[\"labels\"].append(tokenizer.decode(labels, skip_special_tokens=True))\n",
    "        decoded_preds[\"prediction\"].append(tokenizer.decode(predictions[\"pred_ids\"][i], skip_special_tokens=True))\n",
    "\n",
    "    return decoded_preds"
   ],
   "metadata": {
    "collapsed": false,
    "ExecuteTime": {
     "start_time": "2023-12-25T10:55:50.145333Z",
     "end_time": "2023-12-25T10:55:50.165925Z"
    }
   }
  },
  {
   "cell_type": "code",
   "execution_count": null,
   "outputs": [],
   "source": [
    "predictions = decode_predictions(predictions)"
   ],
   "metadata": {
    "collapsed": false,
    "ExecuteTime": {
     "start_time": "2023-12-25T10:55:50.156435Z",
     "end_time": "2023-12-25T10:55:55.704719Z"
    }
   }
  },
  {
   "cell_type": "code",
   "execution_count": null,
   "outputs": [],
   "source": [
    "df = pd.DataFrame(predictions, columns=[\"input_code\", \"labels\", \"prediction\"])"
   ],
   "metadata": {
    "collapsed": false,
    "ExecuteTime": {
     "start_time": "2023-12-25T10:55:55.708982Z",
     "end_time": "2023-12-25T10:55:55.776665Z"
    }
   }
  },
  {
   "cell_type": "code",
   "execution_count": null,
   "outputs": [],
   "source": [
    "df.to_json(output_dir + \"/predictions.jsonl\", orient=\"records\", lines=True)"
   ],
   "metadata": {
    "collapsed": false,
    "ExecuteTime": {
     "start_time": "2023-12-25T10:55:55.757985Z",
     "end_time": "2023-12-25T10:55:55.894664Z"
    }
   }
  }
 ],
 "metadata": {
  "kernelspec": {
   "display_name": "Python 3",
   "language": "python",
   "name": "python3"
  },
  "language_info": {
   "codemirror_mode": {
    "name": "ipython",
    "version": 2
   },
   "file_extension": ".py",
   "mimetype": "text/x-python",
   "name": "python",
   "nbconvert_exporter": "python",
   "pygments_lexer": "ipython2",
   "version": "2.7.6"
  }
 },
 "nbformat": 4,
 "nbformat_minor": 0
}
