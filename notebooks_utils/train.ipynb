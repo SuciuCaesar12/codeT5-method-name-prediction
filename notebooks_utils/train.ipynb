{
 "cells": [
  {
   "cell_type": "code",
   "execution_count": null,
   "metadata": {
    "collapsed": true,
    "ExecuteTime": {
     "start_time": "2023-12-22T14:32:56.828700Z",
     "end_time": "2023-12-22T14:32:56.851213Z"
    }
   },
   "outputs": [],
   "source": [
    "from transformers import AutoModel, AutoTokenizer, T5ForConditionalGeneration\n",
    "from datasets import load_dataset\n",
    "from torch.utils.data import DataLoader\n",
    "from pathlib import Path\n",
    "from tqdm import tqdm\n",
    "import torch\n",
    "import yaml\n",
    "import gc\n",
    "import os\n",
    "\n",
    "output_dir = ''\n",
    "path_to_model = '' # fine-tune from model\n",
    "path_to_dataset = ''\n",
    "checkpoint = 'Salesforce/codet5p-220m'  # initialize from checkpoint\n",
    "batch_size = 8\n",
    "epochs = 1\n",
    "device = \"cuda\" if torch.cuda.is_available() else \"cpu\"\n",
    "task = 'mask-prediction' # 'mask-prediction' or 'code-generation'"
   ]
  },
  {
   "cell_type": "code",
   "execution_count": null,
   "outputs": [],
   "source": [
    "tokenizer = AutoTokenizer.from_pretrained(checkpoint, trust_remote_code=True)\n",
    "modeling = AutoModel if task == 'mask-prediction' else T5ForConditionalGeneration\n",
    "\n",
    "print(f'Task: {task}')\n",
    "\n",
    "if path_to_model:\n",
    "    model = modeling.from_pretrained(\n",
    "        path_to_model,\n",
    "        trust_remote_code=True).to(device)\n",
    "    print(\"Loaded model from path\")\n",
    "else:\n",
    "    model = modeling.from_pretrained(\n",
    "        checkpoint,\n",
    "        trust_remote_code=True).to(device)\n",
    "    print(\"Loaded model from checkpoint\")"
   ],
   "metadata": {
    "collapsed": false,
    "ExecuteTime": {
     "start_time": "2023-12-22T14:19:54.239868Z",
     "end_time": "2023-12-22T14:19:59.387567Z"
    }
   }
  },
  {
   "cell_type": "code",
   "execution_count": null,
   "outputs": [],
   "source": [
    "Path(output_dir).mkdir(parents=True, exist_ok=True)"
   ],
   "metadata": {
    "collapsed": false,
    "ExecuteTime": {
     "start_time": "2023-12-22T14:33:14.867903Z",
     "end_time": "2023-12-22T14:33:14.902900Z"
    }
   }
  },
  {
   "cell_type": "code",
   "execution_count": null,
   "outputs": [],
   "source": [
    "dataset = load_dataset(\"json\", data_files=path_to_dataset)[\"train\"].with_format(\"torch\")"
   ],
   "metadata": {
    "collapsed": false,
    "ExecuteTime": {
     "start_time": "2023-12-22T14:33:21.816355Z",
     "end_time": "2023-12-22T14:33:22.554996Z"
    }
   }
  },
  {
   "cell_type": "code",
   "execution_count": null,
   "outputs": [],
   "source": [
    "dataloader = DataLoader(dataset, batch_size=batch_size, shuffle=False)"
   ],
   "metadata": {
    "collapsed": false,
    "ExecuteTime": {
     "start_time": "2023-12-22T14:33:22.557117Z",
     "end_time": "2023-12-22T14:33:22.570859Z"
    }
   }
  },
  {
   "cell_type": "code",
   "execution_count": null,
   "outputs": [],
   "source": [
    "torch.cuda.empty_cache()\n",
    "gc.collect()"
   ],
   "metadata": {
    "collapsed": false,
    "ExecuteTime": {
     "start_time": "2023-12-22T14:33:58.483568Z",
     "end_time": "2023-12-22T14:33:58.698349Z"
    }
   }
  },
  {
   "cell_type": "code",
   "execution_count": null,
   "outputs": [],
   "source": [
    "model.train()\n",
    "pba = tqdm(dataloader)\n",
    "optimizer = torch.optim.AdamW(model.parameters(), lr=5e-5)\n",
    "\n",
    "for epoch in range(epochs):\n",
    "    for step, batch in enumerate(pba):\n",
    "        optimizer.zero_grad()\n",
    "\n",
    "        for k, v in batch.items():\n",
    "            batch[k] = v.squeeze(1).to(device)\n",
    "\n",
    "        outputs = model(**batch)\n",
    "        loss = outputs.loss\n",
    "        loss.backward()\n",
    "\n",
    "        optimizer.step()\n",
    "        pba.set_description_str(f\"Epoch: {epoch} Step: {step} Loss: {loss.item():.4f}\")\n",
    "\n",
    "    model.save_pretrained(os.path.join(output_dir, f'epoch-{epoch}'))"
   ],
   "metadata": {
    "collapsed": false,
    "ExecuteTime": {
     "start_time": "2023-12-21T13:58:40.157864Z",
     "end_time": "2023-12-21T13:58:50.651107Z"
    }
   }
  },
  {
   "cell_type": "code",
   "execution_count": null,
   "outputs": [],
   "source": [
    "train_info = {\n",
    "    \"path_to_model\": path_to_model,\n",
    "    \"path_to_dataset\": path_to_dataset,\n",
    "    \"checkpoint\": checkpoint,\n",
    "    \"batch_size\": batch_size,\n",
    "    \"epochs\": epochs,\n",
    "    \"dataset\": {\n",
    "        \"rows\": dataset.num_rows,\n",
    "    }\n",
    "}"
   ],
   "metadata": {
    "collapsed": false,
    "ExecuteTime": {
     "start_time": "2023-12-22T14:34:05.357891Z",
     "end_time": "2023-12-22T14:34:05.369759Z"
    }
   }
  },
  {
   "cell_type": "code",
   "execution_count": null,
   "outputs": [],
   "source": [
    "with open(os.path.join(output_dir, \"train_info.yml\"), \"w\") as f:\n",
    "    yaml.dump(train_info, f)"
   ],
   "metadata": {
    "collapsed": false,
    "ExecuteTime": {
     "start_time": "2023-12-22T14:35:00.770325Z",
     "end_time": "2023-12-22T14:35:00.794397Z"
    }
   }
  }
 ],
 "metadata": {
  "kernelspec": {
   "display_name": "Python 3",
   "language": "python",
   "name": "python3"
  },
  "language_info": {
   "codemirror_mode": {
    "name": "ipython",
    "version": 2
   },
   "file_extension": ".py",
   "mimetype": "text/x-python",
   "name": "python",
   "nbconvert_exporter": "python",
   "pygments_lexer": "ipython2",
   "version": "2.7.6"
  }
 },
 "nbformat": 4,
 "nbformat_minor": 0
}
