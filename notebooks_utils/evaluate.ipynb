{
 "cells": [
  {
   "cell_type": "code",
   "execution_count": null,
   "metadata": {
    "collapsed": true,
    "ExecuteTime": {
     "start_time": "2023-12-25T20:24:22.833157Z",
     "end_time": "2023-12-25T20:24:22.869423Z"
    }
   },
   "outputs": [],
   "source": [
    "from datasets import load_dataset\n",
    "from evaluate import load\n",
    "from pathlib import Path\n",
    "import os\n",
    "import yaml\n",
    "import re\n",
    "import math"
   ]
  },
  {
   "cell_type": "code",
   "execution_count": null,
   "outputs": [],
   "source": [
    "path_to_predictions = r''  # path to .json file\n",
    "path_to_save_metrics = r''"
   ],
   "metadata": {
    "collapsed": false,
    "ExecuteTime": {
     "start_time": "2023-12-25T20:24:22.842763Z",
     "end_time": "2023-12-25T20:24:22.929599Z"
    }
   }
  },
  {
   "cell_type": "code",
   "execution_count": null,
   "outputs": [],
   "source": [
    "dataset = load_dataset('json', data_files=path_to_predictions)['train']"
   ],
   "metadata": {
    "collapsed": false,
    "ExecuteTime": {
     "start_time": "2023-12-25T20:24:22.855339Z",
     "end_time": "2023-12-25T20:24:24.100479Z"
    }
   }
  },
  {
   "cell_type": "code",
   "execution_count": null,
   "outputs": [],
   "source": [
    "pattern = r'[a-z]+[0-9]*|[A-Z](?:[a-z]+[0-9]*|[A-Z]*[0-9]*(?=[A-Z]|$))'\n",
    "\n",
    "def split(example):\n",
    "    example['words_labels'] = ' '.join(re.findall(pattern, example['labels'])).lower()\n",
    "    example['words_predictions'] = ' '.join(re.findall(pattern, example['prediction'])).lower()\n",
    "    return example"
   ],
   "metadata": {
    "collapsed": false,
    "ExecuteTime": {
     "start_time": "2023-12-25T20:24:24.104105Z",
     "end_time": "2023-12-25T20:24:24.115335Z"
    }
   }
  },
  {
   "cell_type": "code",
   "execution_count": null,
   "outputs": [],
   "source": [
    "predictions_dataset = dataset.map(split)"
   ],
   "metadata": {
    "collapsed": false,
    "ExecuteTime": {
     "start_time": "2023-12-25T20:24:24.114336Z",
     "end_time": "2023-12-25T20:24:24.165543Z"
    }
   }
  },
  {
   "cell_type": "code",
   "execution_count": null,
   "outputs": [],
   "source": [
    "# for each example we extract the body from code (string between { and })\n",
    "def extract_body(example):\n",
    "    code = example['input_code']\n",
    "    body = code[code.find('{') + 1:code.rfind('}')]\n",
    "    example['body'] = body\n",
    "    return example"
   ],
   "metadata": {
    "collapsed": false,
    "ExecuteTime": {
     "start_time": "2023-12-25T20:24:24.157610Z",
     "end_time": "2023-12-25T20:24:24.176976Z"
    }
   }
  },
  {
   "cell_type": "code",
   "execution_count": null,
   "outputs": [],
   "source": [
    "predictions_dataset = predictions_dataset.map(extract_body)"
   ],
   "metadata": {
    "collapsed": false,
    "ExecuteTime": {
     "start_time": "2023-12-25T20:24:24.167542Z",
     "end_time": "2023-12-25T20:24:24.234865Z"
    }
   }
  },
  {
   "cell_type": "code",
   "execution_count": null,
   "outputs": [],
   "source": [
    "# count the number of lines for each body\n",
    "def count_lines(example):\n",
    "    example['nb_lines'] = len(example['body'].split('\\n')) - 2\n",
    "    return example"
   ],
   "metadata": {
    "collapsed": false,
    "ExecuteTime": {
     "start_time": "2023-12-25T20:24:24.227852Z",
     "end_time": "2023-12-25T20:24:24.251187Z"
    }
   }
  },
  {
   "cell_type": "code",
   "execution_count": null,
   "outputs": [],
   "source": [
    "predictions_dataset = predictions_dataset.map(count_lines)"
   ],
   "metadata": {
    "collapsed": false,
    "ExecuteTime": {
     "start_time": "2023-12-25T20:24:24.245251Z",
     "end_time": "2023-12-25T20:24:24.304849Z"
    }
   }
  },
  {
   "cell_type": "code",
   "execution_count": null,
   "outputs": [],
   "source": [
    "ranges = [[0, 5, 0], [5, 10, 0], [10, 20, 0], [20, 50, 0], [50, 100, 0], [100, 200, 0], [200, 500, 0], [500, math.inf, 0]]"
   ],
   "metadata": {
    "collapsed": false,
    "ExecuteTime": {
     "start_time": "2023-12-25T20:24:24.275362Z",
     "end_time": "2023-12-25T20:24:24.305301Z"
    }
   }
  },
  {
   "cell_type": "code",
   "execution_count": null,
   "outputs": [],
   "source": [
    "# count the number of examples for each range\n",
    "def count_examples(example):\n",
    "    for r in ranges:\n",
    "        if r[0] <= example['nb_lines'] < r[1]:\n",
    "            r[2] += 1\n",
    "            break"
   ],
   "metadata": {
    "collapsed": false,
    "ExecuteTime": {
     "start_time": "2023-12-25T20:24:24.286731Z",
     "end_time": "2023-12-25T20:24:24.305301Z"
    }
   }
  },
  {
   "cell_type": "code",
   "execution_count": null,
   "outputs": [],
   "source": [
    "predictions_dataset.map(count_examples)"
   ],
   "metadata": {
    "collapsed": false,
    "ExecuteTime": {
     "start_time": "2023-12-25T20:24:24.301807Z",
     "end_time": "2023-12-25T20:24:26.876476Z"
    }
   }
  },
  {
   "cell_type": "code",
   "execution_count": null,
   "outputs": [],
   "source": [
    "metrics = {}"
   ],
   "metadata": {
    "collapsed": false,
    "ExecuteTime": {
     "start_time": "2023-12-25T20:24:26.876476Z",
     "end_time": "2023-12-25T20:24:26.888244Z"
    }
   }
  },
  {
   "cell_type": "code",
   "execution_count": null,
   "outputs": [],
   "source": [
    "# for each range calculate the metrics\n",
    "rouge = load('rouge')\n",
    "exact_match_metric = load('exact_match')\n",
    "# for each range we have a dict with the metrics\n",
    "metrics['rouge'] =  {\n",
    "    'rouge1': {},\n",
    "    'rouge2': {},\n",
    "    'rougeL': {},\n",
    "    'rougeLsum': {}\n",
    "}\n",
    "metrics['exact_match'] = {}\n",
    "\n",
    "for range in ranges:\n",
    "    filtered_dataset = predictions_dataset.filter(lambda example: range[0] <= example['nb_lines'] < range[1])\n",
    "\n",
    "    if len(filtered_dataset) == 0:\n",
    "        for k, v in metrics['rouge'].items():\n",
    "            v[f'{range[0]}-{range[1]}'] = 0\n",
    "        continue\n",
    "\n",
    "    rouge_results = rouge.compute(\n",
    "        predictions=filtered_dataset['words_predictions'],\n",
    "        references=filtered_dataset['words_labels'],\n",
    "        use_stemmer=True)\n",
    "\n",
    "    for k, v in rouge_results.items():\n",
    "        metrics['rouge'][k][f'{range[0]}-{range[1]}'] = float(v)\n",
    "\n",
    "    exact_match_results = exact_match_metric.compute(\n",
    "        predictions=filtered_dataset['words_predictions'],\n",
    "        references=filtered_dataset['words_labels'])\n",
    "\n",
    "    metrics['exact_match'][f'{range[0]}-{range[1]}'] = float(exact_match_results['exact_match'])"
   ],
   "metadata": {
    "collapsed": false,
    "ExecuteTime": {
     "start_time": "2023-12-25T20:24:26.905382Z",
     "end_time": "2023-12-25T20:24:54.378102Z"
    }
   }
  },
  {
   "cell_type": "code",
   "execution_count": null,
   "outputs": [],
   "source": [
    "Path(path_to_save_metrics).mkdir(parents=True, exist_ok=True)"
   ],
   "metadata": {
    "collapsed": false,
    "ExecuteTime": {
     "start_time": "2023-12-25T20:24:54.342626Z",
     "end_time": "2023-12-25T20:24:54.379424Z"
    }
   }
  },
  {
   "cell_type": "code",
   "execution_count": null,
   "outputs": [],
   "source": [
    "with open(os.path.join(path_to_save_metrics, 'metrics.yml'), 'w') as f:\n",
    "    yaml.dump(metrics, f)"
   ],
   "metadata": {
    "collapsed": false,
    "ExecuteTime": {
     "start_time": "2023-12-25T20:24:54.356176Z",
     "end_time": "2023-12-25T20:24:54.423905Z"
    }
   }
  }
 ],
 "metadata": {
  "kernelspec": {
   "display_name": "Python 3",
   "language": "python",
   "name": "python3"
  },
  "language_info": {
   "codemirror_mode": {
    "name": "ipython",
    "version": 2
   },
   "file_extension": ".py",
   "mimetype": "text/x-python",
   "name": "python",
   "nbconvert_exporter": "python",
   "pygments_lexer": "ipython2",
   "version": "2.7.6"
  }
 },
 "nbformat": 4,
 "nbformat_minor": 0
}
