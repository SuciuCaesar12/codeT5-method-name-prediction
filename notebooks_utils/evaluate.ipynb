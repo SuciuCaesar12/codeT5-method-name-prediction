{
 "cells": [
  {
   "cell_type": "code",
   "execution_count": null,
   "metadata": {
    "collapsed": true,
    "ExecuteTime": {
     "start_time": "2023-12-25T11:42:46.245600Z",
     "end_time": "2023-12-25T11:42:46.317935Z"
    }
   },
   "outputs": [],
   "source": [
    "from datasets import load_dataset\n",
    "from evaluate import load\n",
    "from pathlib import Path\n",
    "import os\n",
    "import yaml\n",
    "import re\n",
    "import math"
   ]
  },
  {
   "cell_type": "code",
   "execution_count": null,
   "outputs": [],
   "source": [
    "path_to_predictions = r''  # path to .json file\n",
    "path_to_save_metrics = r''"
   ],
   "metadata": {
    "collapsed": false,
    "ExecuteTime": {
     "start_time": "2023-12-25T11:42:46.253086Z",
     "end_time": "2023-12-25T11:42:46.401062Z"
    }
   }
  },
  {
   "cell_type": "code",
   "execution_count": null,
   "outputs": [],
   "source": [
    "dataset = load_dataset('json', data_files=path_to_predictions)['train']"
   ],
   "metadata": {
    "collapsed": false,
    "ExecuteTime": {
     "start_time": "2023-12-25T11:42:46.271526Z",
     "end_time": "2023-12-25T11:42:47.159529Z"
    }
   }
  },
  {
   "cell_type": "code",
   "execution_count": null,
   "outputs": [],
   "source": [
    "pattern = r'[a-z]+[0-9]*|[A-Z](?:[a-z]+[0-9]*|[A-Z]*[0-9]*(?=[A-Z]|$))'\n",
    "\n",
    "def split(example):\n",
    "    example['words_labels'] = ' '.join(re.findall(pattern, example['labels'])).lower()\n",
    "    example['words_predictions'] = ' '.join(re.findall(pattern, example['prediction'])).lower()\n",
    "    return example"
   ],
   "metadata": {
    "collapsed": false,
    "ExecuteTime": {
     "start_time": "2023-12-25T11:42:47.152325Z",
     "end_time": "2023-12-25T11:42:47.170784Z"
    }
   }
  },
  {
   "cell_type": "code",
   "execution_count": null,
   "outputs": [],
   "source": [
    "predictions_dataset = dataset.map(split)"
   ],
   "metadata": {
    "collapsed": false,
    "ExecuteTime": {
     "start_time": "2023-12-25T11:42:47.169263Z",
     "end_time": "2023-12-25T11:42:50.845441Z"
    }
   }
  },
  {
   "cell_type": "code",
   "execution_count": null,
   "outputs": [],
   "source": [
    "# for each example we extract the body from code (string between { and })\n",
    "def extract_body(example):\n",
    "    code = example['input_code']\n",
    "    body = code[code.find('{') + 1:code.rfind('}')]\n",
    "    example['body'] = body\n",
    "    return example"
   ],
   "metadata": {
    "collapsed": false,
    "ExecuteTime": {
     "start_time": "2023-12-25T11:42:50.939436Z",
     "end_time": "2023-12-25T11:42:51.048325Z"
    }
   }
  },
  {
   "cell_type": "code",
   "execution_count": null,
   "outputs": [],
   "source": [
    "predictions_dataset = predictions_dataset.map(extract_body)"
   ],
   "metadata": {
    "collapsed": false,
    "ExecuteTime": {
     "start_time": "2023-12-25T11:42:50.954166Z",
     "end_time": "2023-12-25T11:42:55.689382Z"
    }
   }
  },
  {
   "cell_type": "code",
   "execution_count": null,
   "outputs": [],
   "source": [
    "# count the number of lines for each body\n",
    "def count_lines(example):\n",
    "    example['nb_lines'] = len(example['body'].split('\\n')) - 2\n",
    "    return example"
   ],
   "metadata": {
    "collapsed": false,
    "ExecuteTime": {
     "start_time": "2023-12-25T11:42:55.693388Z",
     "end_time": "2023-12-25T11:42:55.706835Z"
    }
   }
  },
  {
   "cell_type": "code",
   "execution_count": null,
   "outputs": [],
   "source": [
    "predictions_dataset = predictions_dataset.map(count_lines)"
   ],
   "metadata": {
    "collapsed": false,
    "ExecuteTime": {
     "start_time": "2023-12-25T11:42:55.710862Z",
     "end_time": "2023-12-25T11:43:00.723429Z"
    }
   }
  },
  {
   "cell_type": "code",
   "execution_count": null,
   "outputs": [],
   "source": [
    "ranges = [[0, 5, 0], [5, 10, 0], [10, 20, 0], [20, 50, 0], [50, 100, 0], [100, 200, 0], [200, 500, 0], [500, math.inf, 0]]"
   ],
   "metadata": {
    "collapsed": false,
    "ExecuteTime": {
     "start_time": "2023-12-25T11:43:00.699679Z",
     "end_time": "2023-12-25T11:43:00.724114Z"
    }
   }
  },
  {
   "cell_type": "code",
   "execution_count": null,
   "outputs": [],
   "source": [
    "# count the number of examples for each range\n",
    "def count_examples(example):\n",
    "    for r in ranges:\n",
    "        if r[0] <= example['nb_lines'] < r[1]:\n",
    "            r[2] += 1\n",
    "            break"
   ],
   "metadata": {
    "collapsed": false,
    "ExecuteTime": {
     "start_time": "2023-12-25T11:43:00.724612Z",
     "end_time": "2023-12-25T11:43:00.737954Z"
    }
   }
  },
  {
   "cell_type": "code",
   "execution_count": null,
   "outputs": [],
   "source": [
    "predictions_dataset.map(count_examples)"
   ],
   "metadata": {
    "collapsed": false,
    "ExecuteTime": {
     "start_time": "2023-12-25T11:43:00.744392Z",
     "end_time": "2023-12-25T11:43:03.689683Z"
    }
   }
  },
  {
   "cell_type": "code",
   "execution_count": null,
   "outputs": [],
   "source": [
    "metrics = {}"
   ],
   "metadata": {
    "collapsed": false,
    "ExecuteTime": {
     "start_time": "2023-12-25T11:43:03.691906Z",
     "end_time": "2023-12-25T11:43:03.726737Z"
    }
   }
  },
  {
   "cell_type": "code",
   "execution_count": null,
   "outputs": [],
   "source": [
    "# for each range calculate the metrics\n",
    "rouge = load('rouge')\n",
    "# for each range we have a dict with the metrics\n",
    "metrics['rouge'] =  {\n",
    "    'rouge1': {},\n",
    "    'rouge2': {},\n",
    "    'rougeL': {},\n",
    "    'rougeLsum': {}\n",
    "}\n",
    "\n",
    "for range in ranges:\n",
    "    filtered_dataset = predictions_dataset.filter(lambda example: range[0] <= example['nb_lines'] < range[1])\n",
    "\n",
    "    if len(filtered_dataset) == 0:\n",
    "        for k, v in metrics['rouge'].items():\n",
    "            v[f'{range[0]}-{range[1]}'] = 0\n",
    "        continue\n",
    "\n",
    "    results = rouge.compute(\n",
    "        predictions=filtered_dataset['words_predictions'],\n",
    "        references=filtered_dataset['words_labels'])\n",
    "\n",
    "    for k, v in results.items():\n",
    "        metrics['rouge'][k][f'{range[0]}-{range[1]}'] = float(v)"
   ],
   "metadata": {
    "collapsed": false,
    "ExecuteTime": {
     "start_time": "2023-12-25T11:43:03.709024Z",
     "end_time": "2023-12-25T11:43:23.743873Z"
    }
   }
  },
  {
   "cell_type": "code",
   "execution_count": null,
   "outputs": [],
   "source": [
    "Path(path_to_save_metrics).mkdir(parents=True, exist_ok=True)"
   ],
   "metadata": {
    "collapsed": false,
    "ExecuteTime": {
     "start_time": "2023-12-25T11:43:23.760302Z",
     "end_time": "2023-12-25T11:43:23.859153Z"
    }
   }
  },
  {
   "cell_type": "code",
   "execution_count": null,
   "outputs": [],
   "source": [
    "with open(os.path.join(path_to_save_metrics, 'metrics.yml'), 'w') as f:\n",
    "    yaml.dump(metrics, f)"
   ],
   "metadata": {
    "collapsed": false,
    "ExecuteTime": {
     "start_time": "2023-12-25T11:43:23.780125Z",
     "end_time": "2023-12-25T11:43:23.877739Z"
    }
   }
  }
 ],
 "metadata": {
  "kernelspec": {
   "display_name": "Python 3",
   "language": "python",
   "name": "python3"
  },
  "language_info": {
   "codemirror_mode": {
    "name": "ipython",
    "version": 2
   },
   "file_extension": ".py",
   "mimetype": "text/x-python",
   "name": "python",
   "nbconvert_exporter": "python",
   "pygments_lexer": "ipython2",
   "version": "2.7.6"
  }
 },
 "nbformat": 4,
 "nbformat_minor": 0
}
