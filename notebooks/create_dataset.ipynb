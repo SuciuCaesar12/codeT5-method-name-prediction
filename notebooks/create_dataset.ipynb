{
 "cells": [
  {
   "cell_type": "code",
   "execution_count": 1,
   "metadata": {
    "collapsed": true,
    "ExecuteTime": {
     "start_time": "2023-12-21T13:53:33.137857Z",
     "end_time": "2023-12-21T13:53:41.368174Z"
    }
   },
   "outputs": [],
   "source": [
    "from transformers import AutoModel, AutoTokenizer\n",
    "from datasets import load_dataset\n",
    "from itertools import chain\n",
    "import torch\n",
    "import json\n",
    "import gc\n",
    "import os"
   ]
  },
  {
   "cell_type": "code",
   "execution_count": 2,
   "outputs": [],
   "source": [
    "checkpoint = \"Salesforce/codet5p-220m-bimodal\"\n",
    "device = \"cuda\" if torch.cuda.is_available() else \"cpu\"\n",
    "path_dataset = r'../data/intellij-train.csv'\n",
    "path_to_save = r'../datasets/'\n",
    "filename = 'intellij-train-dataset'"
   ],
   "metadata": {
    "collapsed": false,
    "ExecuteTime": {
     "start_time": "2023-12-21T13:53:41.371942Z",
     "end_time": "2023-12-21T13:53:42.097845Z"
    }
   }
  },
  {
   "cell_type": "code",
   "execution_count": 3,
   "outputs": [
    {
     "data": {
      "text/plain": "62"
     },
     "execution_count": 3,
     "metadata": {},
     "output_type": "execute_result"
    }
   ],
   "source": [
    "gc.collect()"
   ],
   "metadata": {
    "collapsed": false,
    "ExecuteTime": {
     "start_time": "2023-12-21T13:53:42.101755Z",
     "end_time": "2023-12-21T13:53:42.230870Z"
    }
   }
  },
  {
   "cell_type": "code",
   "execution_count": 4,
   "outputs": [],
   "source": [
    "model = AutoModel.from_pretrained(checkpoint, trust_remote_code=True).to(device)\n",
    "tokenizer = AutoTokenizer.from_pretrained(checkpoint, trust_remote_code=True)"
   ],
   "metadata": {
    "collapsed": false,
    "ExecuteTime": {
     "start_time": "2023-12-21T13:53:42.230870Z",
     "end_time": "2023-12-21T13:53:49.506353Z"
    }
   }
  },
  {
   "cell_type": "code",
   "execution_count": 5,
   "outputs": [
    {
     "data": {
      "text/plain": "Downloading data files:   0%|          | 0/1 [00:00<?, ?it/s]",
      "application/vnd.jupyter.widget-view+json": {
       "version_major": 2,
       "version_minor": 0,
       "model_id": "8a67cfad49124ca6956328c491dc747d"
      }
     },
     "metadata": {},
     "output_type": "display_data"
    },
    {
     "data": {
      "text/plain": "Extracting data files:   0%|          | 0/1 [00:00<?, ?it/s]",
      "application/vnd.jupyter.widget-view+json": {
       "version_major": 2,
       "version_minor": 0,
       "model_id": "18c01d84a581467f8153be9328341a41"
      }
     },
     "metadata": {},
     "output_type": "display_data"
    },
    {
     "data": {
      "text/plain": "Generating train split: 0 examples [00:00, ? examples/s]",
      "application/vnd.jupyter.widget-view+json": {
       "version_major": 2,
       "version_minor": 0,
       "model_id": "c95a4366dccc46ea8dd24d7f953a23a3"
      }
     },
     "metadata": {},
     "output_type": "display_data"
    }
   ],
   "source": [
    "dataset = load_dataset('csv', data_files=path_dataset)['train']"
   ],
   "metadata": {
    "collapsed": false,
    "ExecuteTime": {
     "start_time": "2023-12-21T13:53:49.521524Z",
     "end_time": "2023-12-21T13:53:51.513528Z"
    }
   }
  },
  {
   "cell_type": "code",
   "execution_count": 6,
   "outputs": [],
   "source": [
    "dataset = dataset.rename_columns({\n",
    "    'code': 'encoder_input_text',\n",
    "    'name': 'target_text'\n",
    "})"
   ],
   "metadata": {
    "collapsed": false,
    "ExecuteTime": {
     "start_time": "2023-12-21T13:53:51.512600Z",
     "end_time": "2023-12-21T13:53:51.552166Z"
    }
   }
  },
  {
   "cell_type": "code",
   "execution_count": 7,
   "outputs": [],
   "source": [
    "# remove the method name from code\n",
    "def remove(example):\n",
    "    example['encoder_input_text'] = \\\n",
    "        example['encoder_input_text'].replace(example['target_text'], tokenizer.sep_token, 1)\n",
    "    return example"
   ],
   "metadata": {
    "collapsed": false,
    "ExecuteTime": {
     "start_time": "2023-12-21T13:53:51.536970Z",
     "end_time": "2023-12-21T13:53:51.573285Z"
    }
   }
  },
  {
   "cell_type": "code",
   "execution_count": 8,
   "outputs": [
    {
     "data": {
      "text/plain": "Map:   0%|          | 0/102629 [00:00<?, ? examples/s]",
      "application/vnd.jupyter.widget-view+json": {
       "version_major": 2,
       "version_minor": 0,
       "model_id": "f8390708629d466e859a49864dce81f9"
      }
     },
     "metadata": {},
     "output_type": "display_data"
    }
   ],
   "source": [
    "dataset = dataset.map(remove)"
   ],
   "metadata": {
    "collapsed": false,
    "ExecuteTime": {
     "start_time": "2023-12-21T13:53:51.566605Z",
     "end_time": "2023-12-21T13:54:02.042966Z"
    }
   }
  },
  {
   "cell_type": "code",
   "execution_count": 9,
   "outputs": [],
   "source": [
    "# add the special token [TDEC] for code-to-text generation\n",
    "def add_tdec(example):\n",
    "    example['decoder_input_text'] = '[TDEC]'\n",
    "    return example"
   ],
   "metadata": {
    "collapsed": false,
    "ExecuteTime": {
     "start_time": "2023-12-21T13:54:02.049185Z",
     "end_time": "2023-12-21T13:54:02.058024Z"
    }
   }
  },
  {
   "cell_type": "code",
   "execution_count": 10,
   "outputs": [
    {
     "data": {
      "text/plain": "Map:   0%|          | 0/102629 [00:00<?, ? examples/s]",
      "application/vnd.jupyter.widget-view+json": {
       "version_major": 2,
       "version_minor": 0,
       "model_id": "66b82f5ff0c349a5b1b9b468bece2f6f"
      }
     },
     "metadata": {},
     "output_type": "display_data"
    }
   ],
   "source": [
    "dataset = dataset.map(add_tdec)"
   ],
   "metadata": {
    "collapsed": false,
    "ExecuteTime": {
     "start_time": "2023-12-21T13:54:02.066367Z",
     "end_time": "2023-12-21T13:54:10.197407Z"
    }
   }
  },
  {
   "cell_type": "code",
   "execution_count": 11,
   "outputs": [],
   "source": [
    "def add_prefix(example):\n",
    "    example['target_text'] = 'The name of the method is: ' + example['target_text']\n",
    "    return example"
   ],
   "metadata": {
    "collapsed": false,
    "ExecuteTime": {
     "start_time": "2023-12-21T13:54:10.205577Z",
     "end_time": "2023-12-21T13:54:10.228566Z"
    }
   }
  },
  {
   "cell_type": "code",
   "execution_count": 12,
   "outputs": [
    {
     "data": {
      "text/plain": "Map:   0%|          | 0/102629 [00:00<?, ? examples/s]",
      "application/vnd.jupyter.widget-view+json": {
       "version_major": 2,
       "version_minor": 0,
       "model_id": "64eea93850c44e4badfcc68eca05a505"
      }
     },
     "metadata": {},
     "output_type": "display_data"
    }
   ],
   "source": [
    "dataset = dataset.map(add_prefix)"
   ],
   "metadata": {
    "collapsed": false,
    "ExecuteTime": {
     "start_time": "2023-12-21T13:54:10.233713Z",
     "end_time": "2023-12-21T13:54:20.806457Z"
    }
   }
  },
  {
   "cell_type": "code",
   "execution_count": 13,
   "outputs": [],
   "source": [
    "def concat_texts(example):\n",
    "    example['stacked_text'] = [text for text in example.values()]\n",
    "    return example"
   ],
   "metadata": {
    "collapsed": false,
    "ExecuteTime": {
     "start_time": "2023-12-21T13:54:20.800276Z",
     "end_time": "2023-12-21T13:54:20.821339Z"
    }
   }
  },
  {
   "cell_type": "code",
   "execution_count": 14,
   "outputs": [
    {
     "data": {
      "text/plain": "Map:   0%|          | 0/102629 [00:00<?, ? examples/s]",
      "application/vnd.jupyter.widget-view+json": {
       "version_major": 2,
       "version_minor": 0,
       "model_id": "669e4e338f4445d39bdaede083eae6d0"
      }
     },
     "metadata": {},
     "output_type": "display_data"
    }
   ],
   "source": [
    "dataset = \\\n",
    "    dataset.map(concat_texts, remove_columns=['encoder_input_text', 'decoder_input_text', 'target_text'])"
   ],
   "metadata": {
    "collapsed": false,
    "ExecuteTime": {
     "start_time": "2023-12-21T13:54:20.834214Z",
     "end_time": "2023-12-21T13:54:33.537393Z"
    }
   }
  },
  {
   "cell_type": "code",
   "execution_count": 15,
   "outputs": [],
   "source": [
    "def tokenize_batch_stacked_text(batch):\n",
    "    stacked_texts = list(chain.from_iterable(batch['stacked_text']))\n",
    "\n",
    "    tokenized_stacked_texts = \\\n",
    "        tokenizer(stacked_texts, truncation=True, padding='longest', max_length=256, return_tensors='pt')\n",
    "\n",
    "    tokenized_stacked_texts = \\\n",
    "        {k: v.reshape(-1, 3, v.shape[1]) for k, v in tokenized_stacked_texts.items()}\n",
    "\n",
    "    model_inputs = {\n",
    "        \"input_ids\": tokenized_stacked_texts[\"input_ids\"][:, 0, :].tolist(),\n",
    "        \"attention_mask\": tokenized_stacked_texts[\"attention_mask\"][:, 0, :].tolist(),\n",
    "        \"decoder_input_ids\": tokenized_stacked_texts[\"input_ids\"][:, 2, :].tolist(),\n",
    "        \"decoder_attention_mask\": tokenized_stacked_texts[\"attention_mask\"][:, 2, :].tolist(),\n",
    "        \"labels\": tokenized_stacked_texts[\"input_ids\"][:, 1, :]\n",
    "    }\n",
    "    model_inputs['labels'][model_inputs['labels'] == 0] = -100\n",
    "    model_inputs['labels'] = model_inputs['labels'].tolist()\n",
    "    return model_inputs"
   ],
   "metadata": {
    "collapsed": false,
    "ExecuteTime": {
     "start_time": "2023-12-21T13:54:33.533689Z",
     "end_time": "2023-12-21T13:54:33.564294Z"
    }
   }
  },
  {
   "cell_type": "code",
   "execution_count": 16,
   "outputs": [],
   "source": [
    "batch_size = 8"
   ],
   "metadata": {
    "collapsed": false,
    "ExecuteTime": {
     "start_time": "2023-12-21T13:54:33.555831Z",
     "end_time": "2023-12-21T13:54:33.594764Z"
    }
   }
  },
  {
   "cell_type": "code",
   "execution_count": 17,
   "outputs": [
    {
     "data": {
      "text/plain": "Map:   0%|          | 0/102624 [00:00<?, ? examples/s]",
      "application/vnd.jupyter.widget-view+json": {
       "version_major": 2,
       "version_minor": 0,
       "model_id": "99f0284ecdbc4abc8a1f76fedd529b87"
      }
     },
     "metadata": {},
     "output_type": "display_data"
    }
   ],
   "source": [
    "dataset = dataset \\\n",
    "    .shuffle(seed=42) \\\n",
    "    .map(tokenize_batch_stacked_text, batched=True, batch_size=batch_size, drop_last_batch=True, remove_columns=['stacked_text']) \\\n",
    "    .select(range(len(dataset) // batch_size))"
   ],
   "metadata": {
    "collapsed": false,
    "ExecuteTime": {
     "start_time": "2023-12-21T13:54:33.579697Z",
     "end_time": "2023-12-21T13:56:31.207131Z"
    }
   }
  },
  {
   "cell_type": "code",
   "execution_count": 18,
   "outputs": [
    {
     "data": {
      "text/plain": "Creating json from Arrow format:   0%|          | 0/13 [00:00<?, ?ba/s]",
      "application/vnd.jupyter.widget-view+json": {
       "version_major": 2,
       "version_minor": 0,
       "model_id": "fd470f545936438c84a41a7fbcdd0ec4"
      }
     },
     "metadata": {},
     "output_type": "display_data"
    }
   ],
   "source": [
    "dataset.to_json(os.path.join(path_to_save, filename + '.jsonl'))\n",
    "# create json file where we put batch_size and max_length\n",
    "with open(os.path.join(path_to_save, filename + '.json'), 'w') as f:\n",
    "    json.dump({'batch_size': batch_size, 'max_length': 256}, f)"
   ],
   "metadata": {
    "collapsed": false,
    "ExecuteTime": {
     "start_time": "2023-12-21T13:56:31.210517Z",
     "end_time": "2023-12-21T13:56:35.764506Z"
    }
   }
  }
 ],
 "metadata": {
  "kernelspec": {
   "display_name": "Python 3",
   "language": "python",
   "name": "python3"
  },
  "language_info": {
   "codemirror_mode": {
    "name": "ipython",
    "version": 2
   },
   "file_extension": ".py",
   "mimetype": "text/x-python",
   "name": "python",
   "nbconvert_exporter": "python",
   "pygments_lexer": "ipython2",
   "version": "2.7.6"
  }
 },
 "nbformat": 4,
 "nbformat_minor": 0
}
