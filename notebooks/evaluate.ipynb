{
 "cells": [
  {
   "cell_type": "code",
   "execution_count": 14,
   "outputs": [],
   "source": [
    "from transformers import AutoModel, AutoTokenizer\n",
    "from datasets import load_dataset\n",
    "from torch.utils.data import DataLoader\n",
    "from tqdm import tqdm\n",
    "from pathlib import Path\n",
    "import pandas as pd\n",
    "import torch\n",
    "import gc\n",
    "\n",
    "checkpoint = \"Salesforce/codet5p-220m-bimodal\"\n",
    "path_to_model = None\n",
    "path_to_dataset = r'../datasets/intellij-val-dataset.jsonl'\n",
    "output_dir = r'../experiments/model_0'\n",
    "device = \"cuda\"  if torch.cuda.is_available() else \"cpu\""
   ],
   "metadata": {
    "collapsed": false,
    "ExecuteTime": {
     "start_time": "2023-12-21T13:37:30.941235Z",
     "end_time": "2023-12-21T13:37:30.953274Z"
    }
   }
  },
  {
   "cell_type": "code",
   "execution_count": 2,
   "outputs": [],
   "source": [
    "tokenizer = AutoTokenizer.from_pretrained(checkpoint, trust_remote_code=True)\n",
    "model = AutoModel.from_pretrained(\n",
    "    path_to_model if path_to_model else checkpoint,\n",
    "    trust_remote_code=True).to(device)"
   ],
   "metadata": {
    "collapsed": false,
    "ExecuteTime": {
     "start_time": "2023-12-21T13:20:01.977031Z",
     "end_time": "2023-12-21T13:20:14.613067Z"
    }
   }
  },
  {
   "cell_type": "code",
   "execution_count": 15,
   "outputs": [],
   "source": [
    "Path(output_dir).mkdir(parents=True, exist_ok=True)"
   ],
   "metadata": {
    "collapsed": false,
    "ExecuteTime": {
     "start_time": "2023-12-21T13:37:33.997905Z",
     "end_time": "2023-12-21T13:37:34.012228Z"
    }
   }
  },
  {
   "cell_type": "code",
   "execution_count": 7,
   "outputs": [],
   "source": [
    "eval_dataset = load_dataset(\"json\", data_files=path_to_dataset)[\"train\"].select(range(10)).with_format(\"torch\")\n",
    "eval_dataloader = DataLoader(eval_dataset, batch_size=2)"
   ],
   "metadata": {
    "collapsed": false,
    "ExecuteTime": {
     "start_time": "2023-12-21T13:36:09.945432Z",
     "end_time": "2023-12-21T13:36:10.557354Z"
    }
   }
  },
  {
   "cell_type": "code",
   "execution_count": 8,
   "outputs": [
    {
     "data": {
      "text/plain": "722"
     },
     "execution_count": 8,
     "metadata": {},
     "output_type": "execute_result"
    }
   ],
   "source": [
    "torch.cuda.empty_cache()\n",
    "gc.collect()"
   ],
   "metadata": {
    "collapsed": false,
    "ExecuteTime": {
     "start_time": "2023-12-21T13:36:11.801355Z",
     "end_time": "2023-12-21T13:36:12.039331Z"
    }
   }
  },
  {
   "cell_type": "code",
   "execution_count": 9,
   "outputs": [
    {
     "name": "stderr",
     "output_type": "stream",
     "text": [
      "Loss: 10.1101: 100%|██████████| 5/5 [00:12<00:00,  2.41s/it]\n"
     ]
    }
   ],
   "source": [
    "predictions = {\n",
    "    \"input_ids\": [],\n",
    "    \"labels\": [],\n",
    "    \"pred_ids\": []\n",
    "}\n",
    "model.eval()\n",
    "\n",
    "pba = tqdm(eval_dataloader)\n",
    "for batch in pba:\n",
    "    for k, v in batch.items():\n",
    "        batch[k] = v.squeeze(1).to(device)\n",
    "\n",
    "    with torch.no_grad():\n",
    "        outputs = model(**batch)\n",
    "\n",
    "    predictions[\"input_ids\"].extend(batch[\"input_ids\"].cpu().numpy())\n",
    "    predictions[\"labels\"].extend(batch[\"labels\"].cpu().numpy())\n",
    "    predictions[\"pred_ids\"].extend(outputs.logits.argmax(-1).cpu().numpy())\n",
    "    pba.set_description(f\"Loss: {outputs.loss.item():.4f}\")"
   ],
   "metadata": {
    "collapsed": false,
    "ExecuteTime": {
     "start_time": "2023-12-21T13:36:13.091326Z",
     "end_time": "2023-12-21T13:36:25.180894Z"
    }
   }
  },
  {
   "cell_type": "code",
   "execution_count": 10,
   "outputs": [],
   "source": [
    "def decode_predictions(predictions):\n",
    "    decoded_preds = {\n",
    "        \"input_code\": [],\n",
    "        \"labels\": [],\n",
    "        \"prediction\": []\n",
    "    }\n",
    "    for i in range(len(predictions[\"input_ids\"])):\n",
    "        decoded_preds[\"input_code\"].append(tokenizer.decode(predictions[\"input_ids\"][i]))\n",
    "        labels = torch.LongTensor(predictions[\"labels\"][i])\n",
    "        labels = labels[labels != -100]\n",
    "        decoded_preds[\"labels\"].append(tokenizer.decode(labels))\n",
    "        decoded_preds[\"prediction\"].append(tokenizer.decode(predictions[\"pred_ids\"][i]))\n",
    "\n",
    "    return decoded_preds"
   ],
   "metadata": {
    "collapsed": false,
    "ExecuteTime": {
     "start_time": "2023-12-21T13:36:28.505425Z",
     "end_time": "2023-12-21T13:36:28.522031Z"
    }
   }
  },
  {
   "cell_type": "code",
   "execution_count": 11,
   "outputs": [],
   "source": [
    "predictions = decode_predictions(predictions)"
   ],
   "metadata": {
    "collapsed": false,
    "ExecuteTime": {
     "start_time": "2023-12-21T13:36:31.499305Z",
     "end_time": "2023-12-21T13:36:31.571026Z"
    }
   }
  },
  {
   "cell_type": "code",
   "execution_count": 12,
   "outputs": [],
   "source": [
    "df = pd.DataFrame(predictions, columns=[\"input_code\", \"labels\", \"prediction\"])"
   ],
   "metadata": {
    "collapsed": false,
    "ExecuteTime": {
     "start_time": "2023-12-21T13:36:34.684492Z",
     "end_time": "2023-12-21T13:36:34.709394Z"
    }
   }
  },
  {
   "cell_type": "code",
   "execution_count": 16,
   "outputs": [],
   "source": [
    "df.to_json(output_dir + \"/predictions.jsonl\", orient=\"records\", lines=True)"
   ],
   "metadata": {
    "collapsed": false,
    "ExecuteTime": {
     "start_time": "2023-12-21T13:37:42.158841Z",
     "end_time": "2023-12-21T13:37:42.191323Z"
    }
   }
  }
 ],
 "metadata": {
  "kernelspec": {
   "display_name": "Python 3",
   "language": "python",
   "name": "python3"
  },
  "language_info": {
   "codemirror_mode": {
    "name": "ipython",
    "version": 2
   },
   "file_extension": ".py",
   "mimetype": "text/x-python",
   "name": "python",
   "nbconvert_exporter": "python",
   "pygments_lexer": "ipython2",
   "version": "2.7.6"
  }
 },
 "nbformat": 4,
 "nbformat_minor": 0
}
