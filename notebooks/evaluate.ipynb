{
 "cells": [
  {
   "cell_type": "code",
   "execution_count": 2,
   "outputs": [],
   "source": [
    "from transformers import AutoModel, AutoTokenizer\n",
    "from torch.utils.data import Dataset, DataLoader\n",
    "from tqdm import tqdm\n",
    "import regex as re\n",
    "import pandas as pd\n",
    "import torch\n",
    "\n",
    "checkpoint = \"Salesforce/codet5p-220m-bimodal\"\n",
    "path_to_model = None\n",
    "path_to_save = r\"evaluations/val_results.csv\"\n",
    "device = \"cuda\"  if torch.cuda.is_available() else \"cpu\"\n",
    "\n",
    "tokenizer = AutoTokenizer.from_pretrained(checkpoint, trust_remote_code=True)\n",
    "if path_to_model:\n",
    "    model = AutoModel.from_pretrained(path_to_model, trust_remote_code=True).to(device)\n",
    "else:\n",
    "    model = AutoModel.from_pretrained(checkpoint, trust_remote_code=True).to(device)"
   ],
   "metadata": {
    "collapsed": false,
    "ExecuteTime": {
     "start_time": "2023-12-19T10:21:59.145425Z",
     "end_time": "2023-12-19T10:22:05.261090Z"
    }
   }
  },
  {
   "cell_type": "code",
   "execution_count": 3,
   "outputs": [],
   "source": [
    "def split_camel_case(method_name):\n",
    "    pattern = re.compile(r'(?<=[a-z])(?=[A-Z])|(?<=[A-Z])(?=[A-Z][a-z])')\n",
    "    words = re.split(pattern, method_name)\n",
    "    return ' '.join(words)"
   ],
   "metadata": {
    "collapsed": false,
    "ExecuteTime": {
     "start_time": "2023-12-19T10:22:05.958478Z",
     "end_time": "2023-12-19T10:22:05.967025Z"
    }
   }
  },
  {
   "cell_type": "code",
   "execution_count": 10,
   "outputs": [],
   "source": [
    "class IntellijCodeDataset(Dataset):\n",
    "\n",
    "    def __init__(self, path_to_data, tokenizer, max_length=512):\n",
    "        self.path_to_data = path_to_data\n",
    "        self.tokenizer = tokenizer\n",
    "        self.max_length = max_length\n",
    "\n",
    "        df = pd.read_csv(path_to_data)\n",
    "        self.methods = df[\"method\"].tolist()[:1000]\n",
    "        self.method_names = df[\"method_name\"].tolist()[:1000]\n",
    "\n",
    "    def __len__(self):\n",
    "        return len(self.method_names)\n",
    "\n",
    "    def __getitem__(self, index):\n",
    "        m = self.methods[index]\n",
    "        m_n = self.method_names[index]\n",
    "\n",
    "        # encode method\n",
    "        m = m.replace(m_n, self.tokenizer.sep_token, 1)\n",
    "        model_inputs = self.tokenizer(m, return_tensors=\"pt\", max_length=self.max_length, truncation=True, padding=\"max_length\")\n",
    "\n",
    "        # encode method name and set as target\n",
    "        labels = tokenizer(split_camel_case(m_n), return_tensors=\"pt\", max_length=self.max_length, truncation=True, padding=\"max_length\")[\"input_ids\"]\n",
    "        labels[labels == self.tokenizer.pad_token_id] = -100\n",
    "        model_inputs[\"labels\"] = labels\n",
    "\n",
    "        # decoder inputs\n",
    "        decoder_inputs = self.tokenizer(\"[TDEC]\", return_tensors=\"pt\", max_length=self.max_length, truncation=True, padding=\"max_length\")\n",
    "        model_inputs[\"decoder_input_ids\"] = decoder_inputs[\"input_ids\"]\n",
    "        model_inputs[\"decoder_attention_mask\"] = decoder_inputs[\"attention_mask\"]\n",
    "\n",
    "        return model_inputs"
   ],
   "metadata": {
    "collapsed": false,
    "ExecuteTime": {
     "start_time": "2023-12-19T10:24:14.932504Z",
     "end_time": "2023-12-19T10:24:14.961623Z"
    }
   }
  },
  {
   "cell_type": "code",
   "execution_count": 11,
   "outputs": [],
   "source": [
    "dataset = IntellijCodeDataset(\"../data/val.csv\", tokenizer)\n",
    "data_loader = DataLoader(dataset, batch_size=1, shuffle=True)"
   ],
   "metadata": {
    "collapsed": false,
    "ExecuteTime": {
     "start_time": "2023-12-19T10:24:16.996818Z",
     "end_time": "2023-12-19T10:24:17.201457Z"
    }
   }
  },
  {
   "cell_type": "code",
   "execution_count": 12,
   "outputs": [
    {
     "name": "stderr",
     "output_type": "stream",
     "text": [
      "  0%|          | 0/1000 [00:11<?, ?it/s]\n",
      "\n",
      "KeyboardInterrupt\n",
      "\n"
     ]
    }
   ],
   "source": [
    "preds = []\n",
    "model.eval()\n",
    "\n",
    "with torch.no_grad():\n",
    "    pba = tqdm(data_loader)\n",
    "    for batch in pba:\n",
    "        # move batch to device\n",
    "        input_ids = batch[\"input_ids\"].squeeze(1).to(device)\n",
    "        attention_mask = batch[\"attention_mask\"].squeeze(1).to(device)\n",
    "        labels = batch[\"labels\"].squeeze(1).to(device)\n",
    "        decoder_input_ids = batch[\"decoder_input_ids\"].squeeze(1).to(device)\n",
    "        decoder_attention_mask = batch[\"decoder_attention_mask\"].squeeze(1).to(device)\n",
    "        # inference\n",
    "        outputs = model(input_ids=input_ids,\n",
    "                        attention_mask=attention_mask,\n",
    "                        decoder_input_ids=decoder_input_ids,\n",
    "                        decoder_attention_mask=decoder_attention_mask,\n",
    "                        labels=labels)\n",
    "        preds.extend(\n",
    "            list(zip(input_ids.tolist(), labels.tolist(), outputs.logits.argmax(-1).tolist()))\n",
    "        )\n",
    "        pba.set_description(f\"Loss: {outputs.loss.item():.4f}\")"
   ],
   "metadata": {
    "collapsed": false
   }
  },
  {
   "cell_type": "code",
   "execution_count": 36,
   "outputs": [],
   "source": [
    "def decode_predictions(preds):\n",
    "    decoded_preds = []\n",
    "    for input_ids, labels, pred_ids in preds:\n",
    "        input_ids = torch.LongTensor(input_ids)\n",
    "        labels = torch.LongTensor(labels)\n",
    "        labels[labels == -100] = tokenizer.pad_token_id\n",
    "        pred_ids = torch.LongTensor(pred_ids)\n",
    "        decoded_preds.append((tokenizer.decode(input_ids, skip_special_tokens=True),\n",
    "                              tokenizer.decode(labels, skip_special_tokens=True),\n",
    "                              tokenizer.decode(pred_ids, skip_special_tokens=True)))\n",
    "    return decoded_preds\n",
    "df = pd.DataFrame(decode_predictions(preds), columns=[\"input_code\", \"labels\", \"predictions\"])"
   ],
   "metadata": {
    "collapsed": false,
    "ExecuteTime": {
     "start_time": "2023-12-18T19:42:45.294645Z",
     "end_time": "2023-12-18T19:42:45.649138Z"
    }
   }
  },
  {
   "cell_type": "code",
   "execution_count": 37,
   "outputs": [],
   "source": [
    "df.to_csv(path_to_save, index=False)"
   ],
   "metadata": {
    "collapsed": false,
    "ExecuteTime": {
     "start_time": "2023-12-18T19:42:45.651516Z",
     "end_time": "2023-12-18T19:42:45.682708Z"
    }
   }
  }
 ],
 "metadata": {
  "kernelspec": {
   "display_name": "Python 3",
   "language": "python",
   "name": "python3"
  },
  "language_info": {
   "codemirror_mode": {
    "name": "ipython",
    "version": 2
   },
   "file_extension": ".py",
   "mimetype": "text/x-python",
   "name": "python",
   "nbconvert_exporter": "python",
   "pygments_lexer": "ipython2",
   "version": "2.7.6"
  }
 },
 "nbformat": 4,
 "nbformat_minor": 0
}
