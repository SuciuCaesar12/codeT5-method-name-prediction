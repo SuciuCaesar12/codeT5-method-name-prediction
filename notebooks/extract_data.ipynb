{
 "cells": [
  {
   "cell_type": "code",
   "execution_count": 5,
   "metadata": {
    "collapsed": true,
    "ExecuteTime": {
     "start_time": "2023-12-20T16:39:23.126693Z",
     "end_time": "2023-12-20T16:39:23.154083Z"
    }
   },
   "outputs": [],
   "source": [
    "from tqdm import tqdm\n",
    "import regex as re\n",
    "import glob\n",
    "import os\n",
    "import pandas as pd\n",
    "import random"
   ]
  },
  {
   "cell_type": "code",
   "execution_count": 6,
   "outputs": [],
   "source": [
    "path_to_intellij = r'../../intellij-community' # path to the intellij community folder\n",
    "path_to_save = r'../data' # path to save the data"
   ],
   "metadata": {
    "collapsed": false,
    "ExecuteTime": {
     "start_time": "2023-12-20T16:39:23.146006Z",
     "end_time": "2023-12-20T16:39:23.176634Z"
    }
   }
  },
  {
   "cell_type": "code",
   "execution_count": 7,
   "outputs": [],
   "source": [
    "def extract_methods(root_path):\n",
    "    method_pattern = re.compile(r'\\b(?:public|private|protected|static|final|\\s)+\\w+\\s+\\w+\\([^)]*\\)\\s*\\{(?:[^{}]|(?R))*\\}')\n",
    "\n",
    "    method_texts = []\n",
    "    files = glob.glob(os.path.join(root_path, '**/*.java'), recursive=True)\n",
    "    pbar = tqdm(files, desc='Extracting methods', unit='file', leave=True)\n",
    "    for file in pbar:\n",
    "        try:\n",
    "            pbar.set_postfix(file=os.path.basename(file))\n",
    "            with open(file, 'r', encoding='utf-8', errors='ignore') as f:\n",
    "                file_text = f.read()\n",
    "                method_texts += method_pattern.findall(file_text)\n",
    "        except:\n",
    "            pass\n",
    "\n",
    "    return method_texts"
   ],
   "metadata": {
    "collapsed": false,
    "ExecuteTime": {
     "start_time": "2023-12-20T16:39:23.162129Z",
     "end_time": "2023-12-20T16:39:23.176634Z"
    }
   }
  },
  {
   "cell_type": "code",
   "execution_count": 8,
   "outputs": [
    {
     "name": "stderr",
     "output_type": "stream",
     "text": [
      "Extracting methods: 100%|██████████| 68678/68678 [02:39<00:00, 430.33file/s, file=UnnecessaryNonCapturingGroupInspectionTest.java]                                                    \n"
     ]
    }
   ],
   "source": [
    "samples = extract_methods(path_to_intellij)"
   ],
   "metadata": {
    "collapsed": false,
    "ExecuteTime": {
     "start_time": "2023-12-20T16:39:23.172262Z",
     "end_time": "2023-12-20T16:42:16.762959Z"
    }
   }
  },
  {
   "cell_type": "code",
   "execution_count": 9,
   "outputs": [],
   "source": [
    "def extract_method_name(method_text):\n",
    "    method_name_pattern = re.compile(r'\\b\\w+\\s+(\\w+)(?=\\([^)]*\\))')\n",
    "    match = method_name_pattern.search(method_text)\n",
    "    return match.group(1) if match else None"
   ],
   "metadata": {
    "collapsed": false,
    "ExecuteTime": {
     "start_time": "2023-12-20T16:42:16.757994Z",
     "end_time": "2023-12-20T16:42:16.786972Z"
    }
   }
  },
  {
   "cell_type": "code",
   "execution_count": 10,
   "outputs": [],
   "source": [
    "samples = [[s, extract_method_name(s)] for s in samples]\n",
    "samples = [s for s in samples if s[1] is not None]"
   ],
   "metadata": {
    "collapsed": false,
    "ExecuteTime": {
     "start_time": "2023-12-20T16:42:16.773363Z",
     "end_time": "2023-12-20T16:42:18.519209Z"
    }
   }
  },
  {
   "cell_type": "code",
   "execution_count": 11,
   "outputs": [],
   "source": [
    "random.shuffle(samples)\n",
    "train_samples = samples[:int(len(samples)*0.6)]\n",
    "val_samples = samples[int(len(samples)*0.6):int(len(samples)*0.8)]\n",
    "test_samples = samples[int(len(samples)*0.8):]"
   ],
   "metadata": {
    "collapsed": false,
    "ExecuteTime": {
     "start_time": "2023-12-20T16:42:18.521398Z",
     "end_time": "2023-12-20T16:42:18.644060Z"
    }
   }
  },
  {
   "cell_type": "code",
   "execution_count": 12,
   "outputs": [],
   "source": [
    "files = ['intellij-train.csv', 'intellij-val.csv', 'intellij-test.csv']\n",
    "samples = [train_samples, val_samples, test_samples]\n",
    "\n",
    "for file, sample in zip(files, samples):\n",
    "    df = pd.DataFrame(sample, columns=['code', 'name'])\n",
    "    df.to_csv(os.path.join(path_to_save, file), index=False)"
   ],
   "metadata": {
    "collapsed": false,
    "ExecuteTime": {
     "start_time": "2023-12-20T16:42:18.645006Z",
     "end_time": "2023-12-20T16:42:19.439440Z"
    }
   }
  }
 ],
 "metadata": {
  "kernelspec": {
   "display_name": "Python 3",
   "language": "python",
   "name": "python3"
  },
  "language_info": {
   "codemirror_mode": {
    "name": "ipython",
    "version": 2
   },
   "file_extension": ".py",
   "mimetype": "text/x-python",
   "name": "python",
   "nbconvert_exporter": "python",
   "pygments_lexer": "ipython2",
   "version": "2.7.6"
  }
 },
 "nbformat": 4,
 "nbformat_minor": 0
}
