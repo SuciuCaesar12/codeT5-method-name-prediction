{
 "cells": [
  {
   "cell_type": "code",
   "execution_count": 0,
   "metadata": {
    "collapsed": true,
    "ExecuteTime": {
     "start_time": "2023-12-18T18:30:24.365720Z",
     "end_time": "2023-12-18T18:30:24.376724Z"
    }
   },
   "outputs": [],
   "source": [
    "from tqdm import tqdm\n",
    "import pandas as pd\n",
    "import glob\n",
    "import os\n",
    "import regex as re\n",
    "import random"
   ]
  },
  {
   "cell_type": "code",
   "execution_count": null,
   "outputs": [],
   "source": [
    "path_to_intellij = r'../intellij-community' # path to the intellij community folder\n",
    "path_to_save = r'./data'"
   ],
   "metadata": {
    "collapsed": false
   }
  },
  {
   "cell_type": "code",
   "execution_count": 3,
   "outputs": [],
   "source": [
    "def extract_methods(root_path):\n",
    "    method_pattern = re.compile(r'\\b(?:public|private|protected|static|final|\\s)+\\w+\\s+\\w+\\([^)]*\\)\\s*\\{(?:[^{}]|(?R))*\\}')\n",
    "\n",
    "    method_texts = []\n",
    "    files = glob.glob(os.path.join(root_path, '**/*.java'), recursive=True)\n",
    "    pbar = tqdm(files, desc='Extracting methods', unit='file', leave=True)\n",
    "    for file in pbar:\n",
    "        try:\n",
    "            pbar.set_postfix(file=os.path.basename(file))\n",
    "            with open(file, 'r', encoding='utf-8', errors='ignore') as f:\n",
    "                file_text = f.read()\n",
    "                method_texts += method_pattern.findall(file_text)\n",
    "        except:\n",
    "            pass\n",
    "\n",
    "    return method_texts"
   ],
   "metadata": {
    "collapsed": false
   }
  },
  {
   "cell_type": "code",
   "execution_count": 4,
   "outputs": [
    {
     "name": "stderr",
     "output_type": "stream",
     "text": [
      "Extracting methods:  14%|█▍        | 9480/68678 [00:16<00:53, 1107.49file/s, file=UseIntConstantsFromTargetClassReturnValue.java]                               IOPub message rate exceeded.\n",
      "The Jupyter server will temporarily stop sending output\n",
      "to the client in order to avoid crashing it.\n",
      "To change this limit, set the config variable\n",
      "`--ServerApp.iopub_msg_rate_limit`.\n",
      "\n",
      "Current values:\n",
      "ServerApp.iopub_msg_rate_limit=1000.0 (msgs/sec)\n",
      "ServerApp.rate_limit_window=3.0 (secs)\n",
      "\n",
      "Extracting methods:  19%|█▉        | 13323/68678 [00:20<00:49, 1113.28file/s, file=after2.java]                                                                                        IOPub message rate exceeded.\n",
      "The Jupyter server will temporarily stop sending output\n",
      "to the client in order to avoid crashing it.\n",
      "To change this limit, set the config variable\n",
      "`--ServerApp.iopub_msg_rate_limit`.\n",
      "\n",
      "Current values:\n",
      "ServerApp.iopub_msg_rate_limit=1000.0 (msgs/sec)\n",
      "ServerApp.rate_limit_window=3.0 (secs)\n",
      "\n",
      "Extracting methods:  31%|███       | 21190/68678 [00:29<00:42, 1126.27file/s, file=SuperclassImplementsUnknownType.java]                                                  IOPub message rate exceeded.\n",
      "The Jupyter server will temporarily stop sending output\n",
      "to the client in order to avoid crashing it.\n",
      "To change this limit, set the config variable\n",
      "`--ServerApp.iopub_msg_rate_limit`.\n",
      "\n",
      "Current values:\n",
      "ServerApp.iopub_msg_rate_limit=1000.0 (msgs/sec)\n",
      "ServerApp.rate_limit_window=3.0 (secs)\n",
      "\n",
      "Extracting methods:  37%|███▋      | 25214/68678 [00:32<00:45, 961.71file/s, file=ElseWithLoop.after.java]                                               IOPub message rate exceeded.\n",
      "The Jupyter server will temporarily stop sending output\n",
      "to the client in order to avoid crashing it.\n",
      "To change this limit, set the config variable\n",
      "`--ServerApp.iopub_msg_rate_limit`.\n",
      "\n",
      "Current values:\n",
      "ServerApp.iopub_msg_rate_limit=1000.0 (msgs/sec)\n",
      "ServerApp.rate_limit_window=3.0 (secs)\n",
      "\n",
      "Extracting methods:  43%|████▎     | 29299/68678 [00:36<00:38, 1032.69file/s, file=ServiceApi.java]                                                                IOPub message rate exceeded.\n",
      "The Jupyter server will temporarily stop sending output\n",
      "to the client in order to avoid crashing it.\n",
      "To change this limit, set the config variable\n",
      "`--ServerApp.iopub_msg_rate_limit`.\n",
      "\n",
      "Current values:\n",
      "ServerApp.iopub_msg_rate_limit=1000.0 (msgs/sec)\n",
      "ServerApp.rate_limit_window=3.0 (secs)\n",
      "\n",
      "Extracting methods: 100%|██████████| 68678/68678 [04:18<00:00, 265.67file/s, file=UnnecessaryNonCapturingGroupInspectionTest.java]                                        \n"
     ]
    }
   ],
   "source": [
    "samples = extract_methods(path_to_intellij)"
   ],
   "metadata": {
    "collapsed": false,
    "ExecuteTime": {
     "start_time": "2023-12-18T18:30:32.861231Z",
     "end_time": "2023-12-18T18:34:57.358748Z"
    }
   }
  },
  {
   "cell_type": "code",
   "execution_count": 6,
   "outputs": [],
   "source": [
    "def extract_method_name(method_text):\n",
    "    method_name_pattern = re.compile(r'\\b\\w+\\s+(\\w+)(?=\\([^)]*\\))')\n",
    "    match = method_name_pattern.search(method_text)\n",
    "    return match.group(1) if match else None"
   ],
   "metadata": {
    "collapsed": false,
    "ExecuteTime": {
     "start_time": "2023-12-18T18:35:05.873855Z",
     "end_time": "2023-12-18T18:35:05.879809Z"
    }
   }
  },
  {
   "cell_type": "code",
   "execution_count": 7,
   "outputs": [],
   "source": [
    "samples = [[s, extract_method_name(s)] for s in samples]\n",
    "samples = [s for s in samples if s[1] is not None]"
   ],
   "metadata": {
    "collapsed": false,
    "ExecuteTime": {
     "start_time": "2023-12-18T18:35:07.720557Z",
     "end_time": "2023-12-18T18:35:09.292392Z"
    }
   }
  },
  {
   "cell_type": "code",
   "execution_count": 8,
   "outputs": [],
   "source": [
    "random.shuffle(samples)\n",
    "train_samples = samples[:int(len(samples)*0.6)]\n",
    "val_samples = samples[int(len(samples)*0.6):int(len(samples)*0.8)]\n",
    "test_samples = samples[int(len(samples)*0.8):]"
   ],
   "metadata": {
    "collapsed": false,
    "ExecuteTime": {
     "start_time": "2023-12-18T18:35:13.126111Z",
     "end_time": "2023-12-18T18:35:13.227787Z"
    }
   }
  },
  {
   "cell_type": "code",
   "execution_count": 9,
   "outputs": [],
   "source": [
    "files = ['train.csv', 'val.csv', 'test.csv']\n",
    "samples = [train_samples, val_samples, test_samples]\n",
    "\n",
    "for file, sample in zip(files, samples):\n",
    "    df = pd.DataFrame(sample, columns=['method', 'method_name'])\n",
    "    df.to_csv(os.path.join(path_to_save, file), index=True)"
   ],
   "metadata": {
    "collapsed": false,
    "ExecuteTime": {
     "start_time": "2023-12-18T18:35:17.584120Z",
     "end_time": "2023-12-18T18:35:19.115230Z"
    }
   }
  }
 ],
 "metadata": {
  "kernelspec": {
   "display_name": "Python 3",
   "language": "python",
   "name": "python3"
  },
  "language_info": {
   "codemirror_mode": {
    "name": "ipython",
    "version": 2
   },
   "file_extension": ".py",
   "mimetype": "text/x-python",
   "name": "python",
   "nbconvert_exporter": "python",
   "pygments_lexer": "ipython2",
   "version": "2.7.6"
  }
 },
 "nbformat": 4,
 "nbformat_minor": 0
}
